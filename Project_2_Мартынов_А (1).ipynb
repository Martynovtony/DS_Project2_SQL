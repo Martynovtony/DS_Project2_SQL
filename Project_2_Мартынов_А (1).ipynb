{
  "cells": [
    {
      "cell_type": "markdown",
      "id": "42289889-bd57-434e-9637-d3e354756316",
      "metadata": {
        "id": "42289889-bd57-434e-9637-d3e354756316"
      },
      "source": [
        "<center> <img src = https://raw.githubusercontent.com/AndreyRysistov/DatasetsForPandas/main/hh%20label.jpg alt=\"drawing\" style=\"width:400px;\">"
      ]
    },
    {
      "cell_type": "markdown",
      "id": "829cb75b-f14e-4ba8-9195-7ba929a7d656",
      "metadata": {
        "id": "829cb75b-f14e-4ba8-9195-7ba929a7d656",
        "tags": []
      },
      "source": [
        "# <center> Проект: Анализ вакансий из HeadHunter\n",
        "   "
      ]
    },
    {
      "cell_type": "code",
      "execution_count": 3,
      "id": "dccfde33-2452-43fb-a8a5-5c6ebc02a71d",
      "metadata": {
        "id": "dccfde33-2452-43fb-a8a5-5c6ebc02a71d"
      },
      "outputs": [],
      "source": [
        "# Импортируем всякое нужное\n",
        "import pandas as pd\n",
        "import psycopg2\n",
        "import warnings\n",
        "import requests\n",
        "from bs4 import BeautifulSoup\n",
        "# Избавимся от лишних warning\n",
        "warnings.filterwarnings('ignore')"
      ]
    },
    {
      "cell_type": "code",
      "execution_count": 4,
      "id": "oVKH4ehvf8Ay",
      "metadata": {
        "id": "oVKH4ehvf8Ay"
      },
      "outputs": [],
      "source": [
        "DBNAME = 'project_sql'\n",
        "USER = 'skillfactory'\n",
        "PASSWORD = 'cCkxxLVrDE8EbvjueeMedPKt'\n",
        "HOST = '84.201.134.129'\n",
        "PORT = 5432"
      ]
    },
    {
      "cell_type": "code",
      "execution_count": 5,
      "id": "G4X_q8KBf7SF",
      "metadata": {
        "id": "G4X_q8KBf7SF"
      },
      "outputs": [],
      "source": [
        "connection = psycopg2.connect(\n",
        "    dbname=DBNAME,\n",
        "    user=USER,\n",
        "    host=HOST,\n",
        "    password=PASSWORD,\n",
        "    port=PORT\n",
        ")"
      ]
    },
    {
      "cell_type": "markdown",
      "id": "0dc6476b-7a00-44f1-ac93-6e3baed33a29",
      "metadata": {
        "id": "0dc6476b-7a00-44f1-ac93-6e3baed33a29"
      },
      "source": [
        "# Юнит 3. Предварительный анализ данных"
      ]
    },
    {
      "cell_type": "markdown",
      "id": "889782b6-8d1c-410e-8920-e57f27917c64",
      "metadata": {
        "id": "889782b6-8d1c-410e-8920-e57f27917c64"
      },
      "source": [
        "1. Напишите запрос, который посчитает количество вакансий в нашей базе (вакансии находятся в таблице vacancies)."
      ]
    },
    {
      "cell_type": "code",
      "execution_count": 6,
      "id": "bc39e68e-ed02-4ee2-9235-7258a2f867a8",
      "metadata": {
        "id": "bc39e68e-ed02-4ee2-9235-7258a2f867a8"
      },
      "outputs": [],
      "source": [
        "# Посчитаем число строк в vacancies = кол-ву вакансий\n",
        "query_3_1 = f'''\n",
        "SELECT COUNT(*)\n",
        "FROM vacancies\n",
        "'''"
      ]
    },
    {
      "cell_type": "code",
      "execution_count": 7,
      "id": "7mAwtsk4hEHY",
      "metadata": {
        "colab": {
          "base_uri": "https://localhost:8080/"
        },
        "id": "7mAwtsk4hEHY",
        "outputId": "b44ad5a8-dbb4-4ef1-e373-64d1c1127b45"
      },
      "outputs": [
        {
          "name": "stdout",
          "output_type": "stream",
          "text": [
            "Всего выбрано 49197 вакансий\n"
          ]
        }
      ],
      "source": [
        "# результат запроса\n",
        "jobs = pd.read_sql_query(query_3_1, connection)\n",
        "print(f'Всего выбрано {jobs.iloc[0,0]} вакансий')"
      ]
    },
    {
      "cell_type": "markdown",
      "id": "b583485d-1f9e-494e-ada4-80ffff7c53d6",
      "metadata": {
        "id": "b583485d-1f9e-494e-ada4-80ffff7c53d6"
      },
      "source": [
        "2. Напишите запрос, который посчитает количество работодателей (таблица employers)."
      ]
    },
    {
      "cell_type": "code",
      "execution_count": 10,
      "id": "5408c52c-3407-4a63-b25b-1aafa2322d28",
      "metadata": {
        "id": "5408c52c-3407-4a63-b25b-1aafa2322d28"
      },
      "outputs": [],
      "source": [
        "# Посчитаем число строк в employers = кол-ву работодателей\n",
        "query_3_2 = f'''\n",
        "SELECT COUNT(*)\n",
        "FROM employers\n",
        "'''"
      ]
    },
    {
      "cell_type": "code",
      "execution_count": 11,
      "id": "jVL4eshKhdqc",
      "metadata": {
        "colab": {
          "base_uri": "https://localhost:8080/"
        },
        "id": "jVL4eshKhdqc",
        "outputId": "603a1607-5111-48ce-91d1-a8b1e6e4b6f4"
      },
      "outputs": [
        {
          "name": "stdout",
          "output_type": "stream",
          "text": [
            "Всего выбрано 23501 работодателей\n"
          ]
        }
      ],
      "source": [
        "# результат запроса\n",
        "emps = pd.read_sql_query(query_3_2, connection)\n",
        "print(f'Всего выбрано {emps.iloc[0,0]} работодателей')"
      ]
    },
    {
      "cell_type": "markdown",
      "id": "a2bfff1f-c975-4bf6-84be-2185d79dcb76",
      "metadata": {
        "id": "a2bfff1f-c975-4bf6-84be-2185d79dcb76"
      },
      "source": [
        "3. Посчитате с помощью запроса количество регионов (таблица areas)."
      ]
    },
    {
      "cell_type": "code",
      "execution_count": 12,
      "id": "1m8QJwBYhey6",
      "metadata": {
        "id": "1m8QJwBYhey6"
      },
      "outputs": [],
      "source": [
        "# Посчитаем число строк в areas = кол-ву регионов\n",
        "query_3_3 = f'''\n",
        "SELECT COUNT(*)\n",
        "FROM areas\n",
        "'''"
      ]
    },
    {
      "cell_type": "code",
      "execution_count": 13,
      "id": "EZsn9tlfhe7f",
      "metadata": {
        "colab": {
          "base_uri": "https://localhost:8080/"
        },
        "id": "EZsn9tlfhe7f",
        "outputId": "1e46ebc5-1e26-4e6a-bb22-e8d515b25cc1"
      },
      "outputs": [
        {
          "name": "stdout",
          "output_type": "stream",
          "text": [
            "Всего выбрано 1362 регионов\n"
          ]
        }
      ],
      "source": [
        "# результат запроса\n",
        "regions = pd.read_sql_query(query_3_3, connection)\n",
        "print(f'Всего выбрано {regions.iloc[0,0]} регионов')"
      ]
    },
    {
      "cell_type": "markdown",
      "id": "41bb59f3-53cc-4a67-a5bc-bedf573955e4",
      "metadata": {
        "id": "41bb59f3-53cc-4a67-a5bc-bedf573955e4"
      },
      "source": [
        "4. Посчитате с помощью запроса количество сфер деятельности в базе (таблица industries)."
      ]
    },
    {
      "cell_type": "code",
      "execution_count": 14,
      "id": "d286cf4c-707b-4cd2-9190-7ab3587d04a1",
      "metadata": {
        "id": "d286cf4c-707b-4cd2-9190-7ab3587d04a1"
      },
      "outputs": [],
      "source": [
        "# Посчитаем число строк в industries = кол-ву сфер деятельности\n",
        "query_3_4 = f'''\n",
        "SELECT COUNT(*)\n",
        "FROM industries\n",
        "'''"
      ]
    },
    {
      "cell_type": "code",
      "execution_count": 15,
      "id": "JYAaoZ4qhfzW",
      "metadata": {
        "colab": {
          "base_uri": "https://localhost:8080/"
        },
        "id": "JYAaoZ4qhfzW",
        "outputId": "2253cae1-efed-4e35-8b00-c4f3a3ef7788"
      },
      "outputs": [
        {
          "name": "stdout",
          "output_type": "stream",
          "text": [
            "Всего выбрано 294 сфер деятельности\n"
          ]
        }
      ],
      "source": [
        "# результат запроса\n",
        "inds = pd.read_sql_query(query_3_4, connection)\n",
        "print(f'Всего выбрано {inds.iloc[0,0]} сфер деятельности')"
      ]
    },
    {
      "cell_type": "markdown",
      "id": "9a8a2181-6914-448b-85f1-38f5f18b8a93",
      "metadata": {
        "id": "9a8a2181-6914-448b-85f1-38f5f18b8a93"
      },
      "source": [
        "***"
      ]
    },
    {
      "cell_type": "code",
      "execution_count": 16,
      "id": "be4e9bd3-a4db-4a20-82fb-6b02fc2957e0",
      "metadata": {
        "colab": {
          "base_uri": "https://localhost:8080/"
        },
        "id": "be4e9bd3-a4db-4a20-82fb-6b02fc2957e0",
        "outputId": "12a47cf4-c346-44b5-f1ad-42ab666a177d"
      },
      "outputs": [
        {
          "name": "stdout",
          "output_type": "stream",
          "text": [
            "\n",
            "    - Всего рассматриваемых вакансий - 49197.\n",
            "    - Количество зарегистрированных работодателей составляет 23501.\n",
            "    - Выбрано 1362 различных регионов.\n",
            "    - В рассматриваемой выборке 294 различных сфер деятельности.\n",
            "\n",
            "        Из первых двух пунктов можно предположить, что в среднем один работодатель\n",
            "    предлагает по две вакансии. Также можно ответить большое разнообразие\n",
            "    представленных регионов и сфер деятельности - эти данные помогут провести\n",
            "    полноценный анализ.\n",
            "    \n"
          ]
        }
      ],
      "source": [
        "# выводы по предварительному анализу данных\n",
        "print(\n",
        "    '''\n",
        "    - Всего рассматриваемых вакансий - {0}.\n",
        "    - Количество зарегистрированных работодателей составляет {1}.\n",
        "    - Выбрано {2} различных регионов.\n",
        "    - В рассматриваемой выборке {3} различных сфер деятельности.\n",
        "\n",
        "        Из первых двух пунктов можно предположить, что в среднем один работодатель\n",
        "    предлагает по две вакансии. Также можно ответить большое разнообразие\n",
        "    представленных регионов и сфер деятельности - эти данные помогут провести\n",
        "    полноценный анализ.\n",
        "    '''.format(jobs.iloc[0, 0], emps.iloc[0, 0],\n",
        "               regions.iloc[0, 0], inds.iloc[0, 0])\n",
        ")"
      ]
    },
    {
      "cell_type": "markdown",
      "id": "8d62a9f3-f64e-4fe7-bdac-c4dffa16155e",
      "metadata": {
        "id": "8d62a9f3-f64e-4fe7-bdac-c4dffa16155e"
      },
      "source": [
        "# Юнит 4. Детальный анализ вакансий"
      ]
    },
    {
      "cell_type": "markdown",
      "id": "93053d3d-b284-481a-9cf7-012d7014c0e0",
      "metadata": {
        "id": "93053d3d-b284-481a-9cf7-012d7014c0e0"
      },
      "source": [
        "1. Напишите запрос, который позволит узнать, сколько (cnt) вакансий в каждом регионе (area).\n",
        "Отсортируйте по количеству вакансий в порядке убывания."
      ]
    },
    {
      "cell_type": "code",
      "execution_count": 17,
      "id": "3f069da6-fdc9-4ae7-b514-fafe2675efd3",
      "metadata": {
        "id": "3f069da6-fdc9-4ae7-b514-fafe2675efd3"
      },
      "outputs": [],
      "source": [
        "# Выберем количество вакансий в каждом регионе, соединим таблицы и отсортируем\n",
        "query_4_1 = f'''\n",
        "SELECT COUNT(*) cnt, a.name area\n",
        "FROM vacancies v\n",
        "JOIN areas a ON a.id = v.area_id\n",
        "GROUP BY area\n",
        "ORDER BY cnt DESC\n",
        "'''"
      ]
    },
    {
      "cell_type": "code",
      "execution_count": 18,
      "id": "P7QL86hrjhRJ",
      "metadata": {
        "colab": {
          "base_uri": "https://localhost:8080/",
          "height": 0
        },
        "id": "P7QL86hrjhRJ",
        "outputId": "00c61067-97df-40d3-864b-57953da7adb6"
      },
      "outputs": [
        {
          "data": {
            "text/html": [
              "<div>\n",
              "<style scoped>\n",
              "    .dataframe tbody tr th:only-of-type {\n",
              "        vertical-align: middle;\n",
              "    }\n",
              "\n",
              "    .dataframe tbody tr th {\n",
              "        vertical-align: top;\n",
              "    }\n",
              "\n",
              "    .dataframe thead th {\n",
              "        text-align: right;\n",
              "    }\n",
              "</style>\n",
              "<table border=\"1\" class=\"dataframe\">\n",
              "  <thead>\n",
              "    <tr style=\"text-align: right;\">\n",
              "      <th></th>\n",
              "      <th>cnt</th>\n",
              "      <th>area</th>\n",
              "    </tr>\n",
              "  </thead>\n",
              "  <tbody>\n",
              "    <tr>\n",
              "      <th>0</th>\n",
              "      <td>5333</td>\n",
              "      <td>Москва</td>\n",
              "    </tr>\n",
              "    <tr>\n",
              "      <th>1</th>\n",
              "      <td>2851</td>\n",
              "      <td>Санкт-Петербург</td>\n",
              "    </tr>\n",
              "    <tr>\n",
              "      <th>2</th>\n",
              "      <td>2112</td>\n",
              "      <td>Минск</td>\n",
              "    </tr>\n",
              "    <tr>\n",
              "      <th>3</th>\n",
              "      <td>2006</td>\n",
              "      <td>Новосибирск</td>\n",
              "    </tr>\n",
              "    <tr>\n",
              "      <th>4</th>\n",
              "      <td>1892</td>\n",
              "      <td>Алматы</td>\n",
              "    </tr>\n",
              "    <tr>\n",
              "      <th>...</th>\n",
              "      <td>...</td>\n",
              "      <td>...</td>\n",
              "    </tr>\n",
              "    <tr>\n",
              "      <th>764</th>\n",
              "      <td>1</td>\n",
              "      <td>Тарко-Сале</td>\n",
              "    </tr>\n",
              "    <tr>\n",
              "      <th>765</th>\n",
              "      <td>1</td>\n",
              "      <td>Новоаннинский</td>\n",
              "    </tr>\n",
              "    <tr>\n",
              "      <th>766</th>\n",
              "      <td>1</td>\n",
              "      <td>Бирск</td>\n",
              "    </tr>\n",
              "    <tr>\n",
              "      <th>767</th>\n",
              "      <td>1</td>\n",
              "      <td>Сасово</td>\n",
              "    </tr>\n",
              "    <tr>\n",
              "      <th>768</th>\n",
              "      <td>1</td>\n",
              "      <td>Анна</td>\n",
              "    </tr>\n",
              "  </tbody>\n",
              "</table>\n",
              "<p>769 rows × 2 columns</p>\n",
              "</div>"
            ],
            "text/plain": [
              "      cnt             area\n",
              "0    5333           Москва\n",
              "1    2851  Санкт-Петербург\n",
              "2    2112            Минск\n",
              "3    2006      Новосибирск\n",
              "4    1892           Алматы\n",
              "..    ...              ...\n",
              "764     1       Тарко-Сале\n",
              "765     1    Новоаннинский\n",
              "766     1            Бирск\n",
              "767     1           Сасово\n",
              "768     1             Анна\n",
              "\n",
              "[769 rows x 2 columns]"
            ]
          },
          "metadata": {},
          "output_type": "display_data"
        }
      ],
      "source": [
        "# результат запроса\n",
        "count_vacs = pd.read_sql_query(query_4_1, connection)\n",
        "display(count_vacs)"
      ]
    },
    {
      "cell_type": "markdown",
      "id": "4266f0b6-1646-492a-88b4-2f6a46502135",
      "metadata": {
        "id": "4266f0b6-1646-492a-88b4-2f6a46502135"
      },
      "source": [
        "2. Напишите запрос, чтобы определить у какого количества вакансий заполнено хотя бы одно из двух полей с зарплатой."
      ]
    },
    {
      "cell_type": "code",
      "execution_count": 19,
      "id": "0c44b350-72eb-4d65-8b54-a1fc449ba9fd",
      "metadata": {
        "id": "0c44b350-72eb-4d65-8b54-a1fc449ba9fd"
      },
      "outputs": [],
      "source": [
        "# Выведем кол-во вакансий, где указана зарплата (любая)\n",
        "query_4_2 = f'''\n",
        "SELECT COUNT(*)\n",
        "FROM vacancies\n",
        "WHERE salary_from IS NOT NULL OR salary_to IS NOT NULL\n",
        "'''"
      ]
    },
    {
      "cell_type": "code",
      "execution_count": 20,
      "id": "rhvwaMDkoWTi",
      "metadata": {
        "colab": {
          "base_uri": "https://localhost:8080/"
        },
        "id": "rhvwaMDkoWTi",
        "outputId": "ae001282-de60-49d9-e5fc-764d29783974"
      },
      "outputs": [
        {
          "name": "stdout",
          "output_type": "stream",
          "text": [
            "\n",
            "      В списке вакансий, где указано хотя бы одно поле с зарплатой - 24073 вакансии.\n",
            "      \n"
          ]
        }
      ],
      "source": [
        "# результат запроса\n",
        "vacs_with_salaries = pd.read_sql_query(query_4_2, connection)\n",
        "print('''\n",
        "      В списке вакансий, где указано хотя бы одно поле с зарплатой - {0} вакансии.\n",
        "      '''.format(vacs_with_salaries.iloc[0,0])\n",
        "      )"
      ]
    },
    {
      "cell_type": "markdown",
      "id": "635c4d5d-f323-4c66-b428-50a088120aa0",
      "metadata": {
        "id": "635c4d5d-f323-4c66-b428-50a088120aa0"
      },
      "source": [
        "3. Найдите средние значения для нижней и верхней границы зарплатной вилки. Округлите значения до целого."
      ]
    },
    {
      "cell_type": "code",
      "execution_count": 21,
      "id": "603cdbe4-0ec3-4106-8eaf-c73fcdd29165",
      "metadata": {
        "id": "603cdbe4-0ec3-4106-8eaf-c73fcdd29165"
      },
      "outputs": [],
      "source": [
        "# Выведем средние значения минимальной и максимальной зарплат\n",
        "query_4_3 = f'''\n",
        "SELECT\n",
        "    v.salary_from,\n",
        "    v.salary_to\n",
        "FROM vacancies v\n",
        "WHERE\n",
        "    /*фильтр salary_from не пустое или salary_to не пустое значение*/\n",
        "    v.salary_from IS NOT NULL OR v.salary_to IS NOT NULL\n",
        "    '''"
      ]
    },
    {
      "cell_type": "code",
      "execution_count": 22,
      "id": "pswpAb66ovZZ",
      "metadata": {
        "colab": {
          "base_uri": "https://localhost:8080/"
        },
        "id": "pswpAb66ovZZ",
        "outputId": "a3f6f07a-5119-4773-aa07-7d2216e7a0a1"
      },
      "outputs": [
        {
          "name": "stdout",
          "output_type": "stream",
          "text": [
            "Cредние значения для нижней границы зарплатной вилки 71065.\n",
            "Cредние значения для верхней границы зарплатной вилки 110537.\n"
          ]
        }
      ],
      "source": [
        "# результат запроса\n",
        "avg_salaries = pd.read_sql_query(query_4_3, connection)\n",
        "salary_from = round(avg_salaries['salary_from'].mean())\n",
        "salary_to = round(avg_salaries['salary_to'].mean())\n",
        "\n",
        "print(f'Cредние значения для нижней границы зарплатной вилки {salary_from}.')\n",
        "print(f'Cредние значения для верхней границы зарплатной вилки {salary_to}.')\n"
      ]
    },
    {
      "cell_type": "markdown",
      "id": "f3fdaec9-5fd3-4260-9cf5-1d7406b628a5",
      "metadata": {
        "id": "f3fdaec9-5fd3-4260-9cf5-1d7406b628a5"
      },
      "source": [
        "4. Напишите запрос, который выведет количество вакансий для каждого сочетания типа рабочего графика (schedule) и типа трудоустройства (employment), используемого в вакансиях. Результат отсортируйте по убыванию количества.\n"
      ]
    },
    {
      "cell_type": "code",
      "execution_count": 23,
      "id": "1ea710ec-871b-431e-9462-c7d0fd87011b",
      "metadata": {
        "id": "1ea710ec-871b-431e-9462-c7d0fd87011b"
      },
      "outputs": [],
      "source": [
        "# Выведем количество вакансий для различных сочетаний графика и типа трудоустройства\n",
        "query_4_4 = f'''\n",
        "SELECT COUNT(*) vacancies, schedule, employment\n",
        "FROM vacancies\n",
        "GROUP BY schedule, employment\n",
        "ORDER BY COUNT(*) DESC\n",
        "'''"
      ]
    },
    {
      "cell_type": "code",
      "execution_count": 24,
      "id": "lGUVqavdo4JQ",
      "metadata": {
        "colab": {
          "base_uri": "https://localhost:8080/",
          "height": 0
        },
        "id": "lGUVqavdo4JQ",
        "outputId": "4e757600-9026-4bb9-a4f9-a4187fd78f6a"
      },
      "outputs": [
        {
          "data": {
            "text/html": [
              "<div>\n",
              "<style scoped>\n",
              "    .dataframe tbody tr th:only-of-type {\n",
              "        vertical-align: middle;\n",
              "    }\n",
              "\n",
              "    .dataframe tbody tr th {\n",
              "        vertical-align: top;\n",
              "    }\n",
              "\n",
              "    .dataframe thead th {\n",
              "        text-align: right;\n",
              "    }\n",
              "</style>\n",
              "<table border=\"1\" class=\"dataframe\">\n",
              "  <thead>\n",
              "    <tr style=\"text-align: right;\">\n",
              "      <th></th>\n",
              "      <th>vacancies</th>\n",
              "      <th>schedule</th>\n",
              "      <th>employment</th>\n",
              "    </tr>\n",
              "  </thead>\n",
              "  <tbody>\n",
              "    <tr>\n",
              "      <th>0</th>\n",
              "      <td>35367</td>\n",
              "      <td>Полный день</td>\n",
              "      <td>Полная занятость</td>\n",
              "    </tr>\n",
              "    <tr>\n",
              "      <th>1</th>\n",
              "      <td>7802</td>\n",
              "      <td>Удаленная работа</td>\n",
              "      <td>Полная занятость</td>\n",
              "    </tr>\n",
              "    <tr>\n",
              "      <th>2</th>\n",
              "      <td>1593</td>\n",
              "      <td>Гибкий график</td>\n",
              "      <td>Полная занятость</td>\n",
              "    </tr>\n",
              "    <tr>\n",
              "      <th>3</th>\n",
              "      <td>1312</td>\n",
              "      <td>Удаленная работа</td>\n",
              "      <td>Частичная занятость</td>\n",
              "    </tr>\n",
              "    <tr>\n",
              "      <th>4</th>\n",
              "      <td>940</td>\n",
              "      <td>Сменный график</td>\n",
              "      <td>Полная занятость</td>\n",
              "    </tr>\n",
              "    <tr>\n",
              "      <th>5</th>\n",
              "      <td>569</td>\n",
              "      <td>Полный день</td>\n",
              "      <td>Стажировка</td>\n",
              "    </tr>\n",
              "    <tr>\n",
              "      <th>6</th>\n",
              "      <td>367</td>\n",
              "      <td>Вахтовый метод</td>\n",
              "      <td>Полная занятость</td>\n",
              "    </tr>\n",
              "    <tr>\n",
              "      <th>7</th>\n",
              "      <td>347</td>\n",
              "      <td>Полный день</td>\n",
              "      <td>Частичная занятость</td>\n",
              "    </tr>\n",
              "    <tr>\n",
              "      <th>8</th>\n",
              "      <td>312</td>\n",
              "      <td>Гибкий график</td>\n",
              "      <td>Частичная занятость</td>\n",
              "    </tr>\n",
              "    <tr>\n",
              "      <th>9</th>\n",
              "      <td>141</td>\n",
              "      <td>Полный день</td>\n",
              "      <td>Проектная работа</td>\n",
              "    </tr>\n",
              "    <tr>\n",
              "      <th>10</th>\n",
              "      <td>133</td>\n",
              "      <td>Удаленная работа</td>\n",
              "      <td>Проектная работа</td>\n",
              "    </tr>\n",
              "    <tr>\n",
              "      <th>11</th>\n",
              "      <td>116</td>\n",
              "      <td>Гибкий график</td>\n",
              "      <td>Стажировка</td>\n",
              "    </tr>\n",
              "    <tr>\n",
              "      <th>12</th>\n",
              "      <td>101</td>\n",
              "      <td>Сменный график</td>\n",
              "      <td>Частичная занятость</td>\n",
              "    </tr>\n",
              "    <tr>\n",
              "      <th>13</th>\n",
              "      <td>64</td>\n",
              "      <td>Удаленная работа</td>\n",
              "      <td>Стажировка</td>\n",
              "    </tr>\n",
              "    <tr>\n",
              "      <th>14</th>\n",
              "      <td>18</td>\n",
              "      <td>Гибкий график</td>\n",
              "      <td>Проектная работа</td>\n",
              "    </tr>\n",
              "    <tr>\n",
              "      <th>15</th>\n",
              "      <td>12</td>\n",
              "      <td>Сменный график</td>\n",
              "      <td>Стажировка</td>\n",
              "    </tr>\n",
              "    <tr>\n",
              "      <th>16</th>\n",
              "      <td>2</td>\n",
              "      <td>Вахтовый метод</td>\n",
              "      <td>Проектная работа</td>\n",
              "    </tr>\n",
              "    <tr>\n",
              "      <th>17</th>\n",
              "      <td>1</td>\n",
              "      <td>Сменный график</td>\n",
              "      <td>Проектная работа</td>\n",
              "    </tr>\n",
              "  </tbody>\n",
              "</table>\n",
              "</div>"
            ],
            "text/plain": [
              "    vacancies          schedule           employment\n",
              "0       35367       Полный день     Полная занятость\n",
              "1        7802  Удаленная работа     Полная занятость\n",
              "2        1593     Гибкий график     Полная занятость\n",
              "3        1312  Удаленная работа  Частичная занятость\n",
              "4         940    Сменный график     Полная занятость\n",
              "5         569       Полный день           Стажировка\n",
              "6         367    Вахтовый метод     Полная занятость\n",
              "7         347       Полный день  Частичная занятость\n",
              "8         312     Гибкий график  Частичная занятость\n",
              "9         141       Полный день     Проектная работа\n",
              "10        133  Удаленная работа     Проектная работа\n",
              "11        116     Гибкий график           Стажировка\n",
              "12        101    Сменный график  Частичная занятость\n",
              "13         64  Удаленная работа           Стажировка\n",
              "14         18     Гибкий график     Проектная работа\n",
              "15         12    Сменный график           Стажировка\n",
              "16          2    Вахтовый метод     Проектная работа\n",
              "17          1    Сменный график     Проектная работа"
            ]
          },
          "metadata": {},
          "output_type": "display_data"
        }
      ],
      "source": [
        "schedule_employment = pd.read_sql_query(query_4_4, connection)\n",
        "display(schedule_employment)"
      ]
    },
    {
      "cell_type": "markdown",
      "id": "0136ffee-0ead-4a6b-b608-61d1c753a438",
      "metadata": {
        "id": "0136ffee-0ead-4a6b-b608-61d1c753a438"
      },
      "source": [
        "5. Напишите запрос, выводящий значения поля Требуемый опыт работы (experience) в порядке возрастания количества вакансий, в которых указан данный вариант опыта."
      ]
    },
    {
      "cell_type": "code",
      "execution_count": 25,
      "id": "5b3a8e79-f7ab-4008-b767-12aea3a205ea",
      "metadata": {
        "id": "5b3a8e79-f7ab-4008-b767-12aea3a205ea"
      },
      "outputs": [],
      "source": [
        "# Выведем количество вакансий, соответствующих тому или иному опыту работы\n",
        "query_4_5 = f'''\n",
        "SELECT experience, COUNT(*) vacancies\n",
        "FROM vacancies\n",
        "GROUP BY experience\n",
        "ORDER BY vacancies ASC\n",
        "'''"
      ]
    },
    {
      "cell_type": "code",
      "execution_count": 26,
      "id": "3Is64Y-hpDpq",
      "metadata": {
        "colab": {
          "base_uri": "https://localhost:8080/",
          "height": 0
        },
        "id": "3Is64Y-hpDpq",
        "outputId": "9ee5d92a-91c2-4d8a-fccc-8d42abfa39f4"
      },
      "outputs": [
        {
          "data": {
            "text/html": [
              "<div>\n",
              "<style scoped>\n",
              "    .dataframe tbody tr th:only-of-type {\n",
              "        vertical-align: middle;\n",
              "    }\n",
              "\n",
              "    .dataframe tbody tr th {\n",
              "        vertical-align: top;\n",
              "    }\n",
              "\n",
              "    .dataframe thead th {\n",
              "        text-align: right;\n",
              "    }\n",
              "</style>\n",
              "<table border=\"1\" class=\"dataframe\">\n",
              "  <thead>\n",
              "    <tr style=\"text-align: right;\">\n",
              "      <th></th>\n",
              "      <th>experience</th>\n",
              "      <th>vacancies</th>\n",
              "    </tr>\n",
              "  </thead>\n",
              "  <tbody>\n",
              "    <tr>\n",
              "      <th>0</th>\n",
              "      <td>Более 6 лет</td>\n",
              "      <td>1337</td>\n",
              "    </tr>\n",
              "    <tr>\n",
              "      <th>1</th>\n",
              "      <td>Нет опыта</td>\n",
              "      <td>7197</td>\n",
              "    </tr>\n",
              "    <tr>\n",
              "      <th>2</th>\n",
              "      <td>От 3 до 6 лет</td>\n",
              "      <td>14511</td>\n",
              "    </tr>\n",
              "    <tr>\n",
              "      <th>3</th>\n",
              "      <td>От 1 года до 3 лет</td>\n",
              "      <td>26152</td>\n",
              "    </tr>\n",
              "  </tbody>\n",
              "</table>\n",
              "</div>"
            ],
            "text/plain": [
              "           experience  vacancies\n",
              "0         Более 6 лет       1337\n",
              "1           Нет опыта       7197\n",
              "2       От 3 до 6 лет      14511\n",
              "3  От 1 года до 3 лет      26152"
            ]
          },
          "metadata": {},
          "output_type": "display_data"
        }
      ],
      "source": [
        "experience = pd.read_sql_query(query_4_5, connection)\n",
        "display(experience)"
      ]
    },
    {
      "cell_type": "markdown",
      "id": "oq2b7n1QpIka",
      "metadata": {
        "id": "oq2b7n1QpIka"
      },
      "source": [
        "***"
      ]
    },
    {
      "cell_type": "code",
      "execution_count": 27,
      "id": "e91f87ed-e25c-4f96-9f92-b642e8c0b4fa",
      "metadata": {
        "colab": {
          "base_uri": "https://localhost:8080/"
        },
        "id": "e91f87ed-e25c-4f96-9f92-b642e8c0b4fa",
        "outputId": "4d86eeba-e833-4cf8-ca53-9f53c4890bc6"
      },
      "outputs": [
        {
          "name": "stdout",
          "output_type": "stream",
          "text": [
            "\n",
            "    1) Было определено количество вакансий по городам. В пятёрку лидеров входят:\n",
            "    Москва: 5333, Санкт-Петербург: 2851, Минск: 2112, Новосибирск: 2006,\n",
            "    Алматы: 1892.\n",
            "\n",
            "    2) У 24073 вакансий указан уровень зарплаты, что составляет около 49% из общего\n",
            "    числа.\n",
            "\n",
            "    3) Средний уровень зарплаты по всем вакансиям находится в диапазоне\n",
            "    от 71065 рублей до 110537 рублей.\n",
            "\n",
            "    4) Было выведено количество вакансий по признакам \"Рабочий график\" и \"Тип занятости\".\n",
            "    Первое место - Полный день и Полная занятость: 35367 вакансий.\n",
            "    На второй позиции - Удаленная работа и Полная занятость: 7802 вакансий.\n",
            "    Можно предположить, что востребованость в удалённой работе растёт и в будущем\n",
            "    этот показатель может только вырасти.\n",
            "\n",
            "    5) Наиболее востребованный опыт работы у работодателей От 1 года до 3 лет.\n",
            "    Можно сделать вывод: работодатели заинтересованы в сотрудниках с опытом работы,\n",
            "    т.к. потратят меньше ресурсов на нового работника, также такие сотрудники более самостоятельны\n",
            "    в принятии решений и исполнении должностных обязанностей.\n",
            "\n"
          ]
        }
      ],
      "source": [
        "# выводы по детальному анализу вакансий\n",
        "print('''\n",
        "    1) Было определено количество вакансий по городам. В пятёрку лидеров входят:\n",
        "    {1}: {0}, {3}: {2}, {5}: {4}, {7}: {6},\n",
        "    {9}: {8}.\n",
        "\n",
        "    2) У {10} вакансий указан уровень зарплаты, что составляет около {11}% из общего\n",
        "    числа.\n",
        "\n",
        "    3) Средний уровень зарплаты по всем вакансиям находится в диапазоне\n",
        "    от {12} рублей до {13} рублей.\n",
        "\n",
        "    4) Было выведено количество вакансий по признакам \"Рабочий график\" и \"Тип занятости\".\n",
        "    Первое место - {15} и {16}: {14} вакансий.\n",
        "    На второй позиции - {18} и {19}: {17} вакансий.\n",
        "    Можно предположить, что востребованость в удалённой работе растёт и в будущем\n",
        "    этот показатель может только вырасти.\n",
        "\n",
        "    5) Наиболее востребованный опыт работы у работодателей {20}.\n",
        "    Можно сделать вывод: работодатели заинтересованы в сотрудниках с опытом работы,\n",
        "    т.к. потратят меньше ресурсов на нового работника, также такие сотрудники более самостоятельны\n",
        "    в принятии решений и исполнении должностных обязанностей.\n",
        "'''.format(count_vacs.iloc[0][0], count_vacs.iloc[0][1], count_vacs.iloc[1][0], count_vacs.iloc[1][1],\n",
        "           count_vacs.iloc[2][0], count_vacs.iloc[2][1], count_vacs.iloc[3][0], count_vacs.iloc[3][1],\n",
        "           count_vacs.iloc[4][0], count_vacs.iloc[4][1], vacs_with_salaries.iloc[0,0],\n",
        "           round(vacs_with_salaries.iloc[0,0]/jobs.iloc[0][0]*100), salary_from, salary_to,\n",
        "           schedule_employment.iloc[0][0], schedule_employment.iloc[0][1], schedule_employment.iloc[0][2], schedule_employment.iloc[1][0],\n",
        "           schedule_employment.iloc[1][1], schedule_employment.iloc[1][2], experience.iloc[3][0])\n",
        "      )"
      ]
    },
    {
      "cell_type": "markdown",
      "id": "7ea20ab6-04a7-40a0-adec-443a0e5a42c3",
      "metadata": {
        "id": "7ea20ab6-04a7-40a0-adec-443a0e5a42c3"
      },
      "source": [
        "# Юнит 5. Анализ работодателей"
      ]
    },
    {
      "cell_type": "markdown",
      "id": "968aed80-74ef-4ffb-b5bf-c65b84e9caea",
      "metadata": {
        "id": "968aed80-74ef-4ffb-b5bf-c65b84e9caea"
      },
      "source": [
        "1. Напишите запрос, который позволит узнать, какие работодатели находятся на первом и пятом месте по количеству вакансий."
      ]
    },
    {
      "cell_type": "code",
      "execution_count": 28,
      "id": "f2d62796-d400-4ec1-a675-88112739a50e",
      "metadata": {
        "id": "f2d62796-d400-4ec1-a675-88112739a50e"
      },
      "outputs": [],
      "source": [
        "# Пойдем простым путём - найдем топ-5 работодателей по количеству вакансий через\n",
        "# соединение таблицы вакансий и таблицы работодателей\n",
        "query_5_1 = f'''\n",
        "SELECT\n",
        "    e.name employer,\n",
        "    count(v.id) vacancies\n",
        "FROM employers e\n",
        "JOIN vacancies v ON v.employer_id = e.id\n",
        "GROUP BY employer\n",
        "ORDER BY vacancies DESC\n",
        "LIMIT 5\n",
        "'''"
      ]
    },
    {
      "cell_type": "code",
      "execution_count": 29,
      "id": "64tOMkAxqkQk",
      "metadata": {
        "colab": {
          "base_uri": "https://localhost:8080/"
        },
        "id": "64tOMkAxqkQk",
        "outputId": "d089bc73-64b6-420d-8adb-1587c3239087"
      },
      "outputs": [
        {
          "name": "stdout",
          "output_type": "stream",
          "text": [
            "\n",
            "    Работодатель \"Яндекс\" находится на первом месте по количеству вакансий.\n",
            "    \"Газпром нефть\" - на пятом месте.\n"
          ]
        }
      ],
      "source": [
        "# результат запроса\n",
        "employers_vacs = pd.read_sql_query(query_5_1, connection)\n",
        "print('''\n",
        "    Работодатель \"{0}\" находится на первом месте по количеству вакансий.\n",
        "    \"{1}\" - на пятом месте.'''.format(employers_vacs['employer'][0], employers_vacs['employer'][4]))"
      ]
    },
    {
      "cell_type": "markdown",
      "id": "68377cfc-b378-43dc-ab7d-1195abf2c515",
      "metadata": {
        "id": "68377cfc-b378-43dc-ab7d-1195abf2c515"
      },
      "source": [
        "2. Напишите запрос, который для каждого региона выведет количество работодателей и вакансий в нём.\n",
        "Среди регионов, в которых нет вакансий, найдите тот, в котором наибольшее количество работодателей.\n"
      ]
    },
    {
      "cell_type": "code",
      "execution_count": 30,
      "id": "dd7df27a-e3e8-412e-a21a-5d389b71e891",
      "metadata": {
        "id": "dd7df27a-e3e8-412e-a21a-5d389b71e891"
      },
      "outputs": [],
      "source": [
        "# Соберём таблицу с регионами и кол-вом вакансий, а также количеством работодателей в них.\n",
        "query_5_2 = f'''\n",
        "SELECT a.name area,\n",
        "COUNT(DISTINCT e.id) employers,\n",
        "COUNT(DISTINCT v.id) vacancies\n",
        "FROM areas a\n",
        "LEFT JOIN employers e ON e.area = a.id\n",
        "LEFT JOIN vacancies v ON v.area_id = a.id\n",
        "GROUP BY a.id\n",
        "ORDER BY employers\n",
        "'''\n",
        "# Среди регионов, где нет вакансий, найдем регион с наибольшим числом работодателей\n",
        "query_5_2_2 = f'''\n",
        "SELECT a.name area,\n",
        "COUNT(DISTINCT e.id) employers,\n",
        "COUNT(DISTINCT v.id) vacancies\n",
        "FROM areas a\n",
        "LEFT JOIN public.employers e ON e.area = a.id\n",
        "LEFT JOIN public.vacancies v ON v.area_id = a.id\n",
        "WHERE v.id IS NULL\n",
        "GROUP BY a.id\n",
        "ORDER BY employers DESC\n",
        "LIMIT 1\n",
        "'''\n"
      ]
    },
    {
      "cell_type": "code",
      "execution_count": 31,
      "id": "x1ikWbydrbf6",
      "metadata": {
        "colab": {
          "base_uri": "https://localhost:8080/",
          "height": 0
        },
        "id": "x1ikWbydrbf6",
        "outputId": "f755a3e9-0fec-4693-89a2-7b047f8331b1"
      },
      "outputs": [
        {
          "data": {
            "text/html": [
              "<div>\n",
              "<style scoped>\n",
              "    .dataframe tbody tr th:only-of-type {\n",
              "        vertical-align: middle;\n",
              "    }\n",
              "\n",
              "    .dataframe tbody tr th {\n",
              "        vertical-align: top;\n",
              "    }\n",
              "\n",
              "    .dataframe thead th {\n",
              "        text-align: right;\n",
              "    }\n",
              "</style>\n",
              "<table border=\"1\" class=\"dataframe\">\n",
              "  <thead>\n",
              "    <tr style=\"text-align: right;\">\n",
              "      <th></th>\n",
              "      <th>area</th>\n",
              "      <th>employers</th>\n",
              "      <th>vacancies</th>\n",
              "    </tr>\n",
              "  </thead>\n",
              "  <tbody>\n",
              "    <tr>\n",
              "      <th>0</th>\n",
              "      <td>Верхневилюйск</td>\n",
              "      <td>0</td>\n",
              "      <td>0</td>\n",
              "    </tr>\n",
              "    <tr>\n",
              "      <th>1</th>\n",
              "      <td>Порхов</td>\n",
              "      <td>0</td>\n",
              "      <td>0</td>\n",
              "    </tr>\n",
              "    <tr>\n",
              "      <th>2</th>\n",
              "      <td>Пустошка</td>\n",
              "      <td>0</td>\n",
              "      <td>0</td>\n",
              "    </tr>\n",
              "    <tr>\n",
              "      <th>3</th>\n",
              "      <td>Пыталово</td>\n",
              "      <td>0</td>\n",
              "      <td>0</td>\n",
              "    </tr>\n",
              "    <tr>\n",
              "      <th>4</th>\n",
              "      <td>Дорогобуж</td>\n",
              "      <td>0</td>\n",
              "      <td>1</td>\n",
              "    </tr>\n",
              "    <tr>\n",
              "      <th>...</th>\n",
              "      <td>...</td>\n",
              "      <td>...</td>\n",
              "      <td>...</td>\n",
              "    </tr>\n",
              "    <tr>\n",
              "      <th>1357</th>\n",
              "      <td>Екатеринбург</td>\n",
              "      <td>609</td>\n",
              "      <td>1698</td>\n",
              "    </tr>\n",
              "    <tr>\n",
              "      <th>1358</th>\n",
              "      <td>Алматы</td>\n",
              "      <td>721</td>\n",
              "      <td>1892</td>\n",
              "    </tr>\n",
              "    <tr>\n",
              "      <th>1359</th>\n",
              "      <td>Минск</td>\n",
              "      <td>1115</td>\n",
              "      <td>2112</td>\n",
              "    </tr>\n",
              "    <tr>\n",
              "      <th>1360</th>\n",
              "      <td>Санкт-Петербург</td>\n",
              "      <td>2217</td>\n",
              "      <td>2851</td>\n",
              "    </tr>\n",
              "    <tr>\n",
              "      <th>1361</th>\n",
              "      <td>Москва</td>\n",
              "      <td>5864</td>\n",
              "      <td>5333</td>\n",
              "    </tr>\n",
              "  </tbody>\n",
              "</table>\n",
              "<p>1362 rows × 3 columns</p>\n",
              "</div>"
            ],
            "text/plain": [
              "                 area  employers  vacancies\n",
              "0       Верхневилюйск          0          0\n",
              "1              Порхов          0          0\n",
              "2            Пустошка          0          0\n",
              "3            Пыталово          0          0\n",
              "4           Дорогобуж          0          1\n",
              "...               ...        ...        ...\n",
              "1357     Екатеринбург        609       1698\n",
              "1358           Алматы        721       1892\n",
              "1359            Минск       1115       2112\n",
              "1360  Санкт-Петербург       2217       2851\n",
              "1361           Москва       5864       5333\n",
              "\n",
              "[1362 rows x 3 columns]"
            ]
          },
          "metadata": {},
          "output_type": "display_data"
        },
        {
          "data": {
            "text/html": [
              "<div>\n",
              "<style scoped>\n",
              "    .dataframe tbody tr th:only-of-type {\n",
              "        vertical-align: middle;\n",
              "    }\n",
              "\n",
              "    .dataframe tbody tr th {\n",
              "        vertical-align: top;\n",
              "    }\n",
              "\n",
              "    .dataframe thead th {\n",
              "        text-align: right;\n",
              "    }\n",
              "</style>\n",
              "<table border=\"1\" class=\"dataframe\">\n",
              "  <thead>\n",
              "    <tr style=\"text-align: right;\">\n",
              "      <th></th>\n",
              "      <th>area</th>\n",
              "      <th>employers</th>\n",
              "      <th>vacancies</th>\n",
              "    </tr>\n",
              "  </thead>\n",
              "  <tbody>\n",
              "    <tr>\n",
              "      <th>0</th>\n",
              "      <td>Россия</td>\n",
              "      <td>410</td>\n",
              "      <td>0</td>\n",
              "    </tr>\n",
              "  </tbody>\n",
              "</table>\n",
              "</div>"
            ],
            "text/plain": [
              "     area  employers  vacancies\n",
              "0  Россия        410          0"
            ]
          },
          "metadata": {},
          "output_type": "display_data"
        }
      ],
      "source": [
        "# результат запроса\n",
        "area_info = pd.read_sql_query(query_5_2, connection)\n",
        "display(area_info)\n",
        "zero_vacancies_regions = pd.read_sql_query(query_5_2_2, connection)\n",
        "display(zero_vacancies_regions)"
      ]
    },
    {
      "cell_type": "markdown",
      "id": "f2fe0acb-ab1a-4e15-9326-2560e22d73c1",
      "metadata": {
        "id": "f2fe0acb-ab1a-4e15-9326-2560e22d73c1"
      },
      "source": [
        "3. Для каждого работодателя посчитайте количество регионов, в которых он публикует свои вакансии. Отсортируйте результат по убыванию количества.\n"
      ]
    },
    {
      "cell_type": "code",
      "execution_count": 32,
      "id": "6271f8ad-bd2e-4196-ae4a-5b39c4c1010e",
      "metadata": {
        "id": "6271f8ad-bd2e-4196-ae4a-5b39c4c1010e"
      },
      "outputs": [],
      "source": [
        "# Посчитаем кол-во регионов, где публикуются вакансии (в разрезе работодателей)\n",
        "query_5_3 = f'''\n",
        "SELECT e.name employer,\n",
        "COUNT(DISTINCT v.area_id) cnt\n",
        "FROM employers e\n",
        "JOIN vacancies v ON v.employer_id = e.id\n",
        "GROUP BY e.name\n",
        "ORDER BY cnt DESC\n",
        "'''"
      ]
    },
    {
      "cell_type": "code",
      "execution_count": 33,
      "id": "1EIvX3HasH4F",
      "metadata": {
        "colab": {
          "base_uri": "https://localhost:8080/",
          "height": 0
        },
        "id": "1EIvX3HasH4F",
        "outputId": "0ff5337d-ad07-450a-e205-595f18a125c7"
      },
      "outputs": [
        {
          "data": {
            "text/html": [
              "<div>\n",
              "<style scoped>\n",
              "    .dataframe tbody tr th:only-of-type {\n",
              "        vertical-align: middle;\n",
              "    }\n",
              "\n",
              "    .dataframe tbody tr th {\n",
              "        vertical-align: top;\n",
              "    }\n",
              "\n",
              "    .dataframe thead th {\n",
              "        text-align: right;\n",
              "    }\n",
              "</style>\n",
              "<table border=\"1\" class=\"dataframe\">\n",
              "  <thead>\n",
              "    <tr style=\"text-align: right;\">\n",
              "      <th></th>\n",
              "      <th>employer</th>\n",
              "      <th>cnt</th>\n",
              "    </tr>\n",
              "  </thead>\n",
              "  <tbody>\n",
              "    <tr>\n",
              "      <th>0</th>\n",
              "      <td>Яндекс</td>\n",
              "      <td>181</td>\n",
              "    </tr>\n",
              "    <tr>\n",
              "      <th>1</th>\n",
              "      <td>Ростелеком</td>\n",
              "      <td>152</td>\n",
              "    </tr>\n",
              "    <tr>\n",
              "      <th>2</th>\n",
              "      <td>Спецремонт</td>\n",
              "      <td>116</td>\n",
              "    </tr>\n",
              "    <tr>\n",
              "      <th>3</th>\n",
              "      <td>Поляков Денис Иванович</td>\n",
              "      <td>88</td>\n",
              "    </tr>\n",
              "    <tr>\n",
              "      <th>4</th>\n",
              "      <td>ООО ЕФИН</td>\n",
              "      <td>71</td>\n",
              "    </tr>\n",
              "    <tr>\n",
              "      <th>...</th>\n",
              "      <td>...</td>\n",
              "      <td>...</td>\n",
              "    </tr>\n",
              "    <tr>\n",
              "      <th>14761</th>\n",
              "      <td>UniSol</td>\n",
              "      <td>1</td>\n",
              "    </tr>\n",
              "    <tr>\n",
              "      <th>14762</th>\n",
              "      <td>UNISTORY LLC</td>\n",
              "      <td>1</td>\n",
              "    </tr>\n",
              "    <tr>\n",
              "      <th>14763</th>\n",
              "      <td>UNIT6</td>\n",
              "      <td>1</td>\n",
              "    </tr>\n",
              "    <tr>\n",
              "      <th>14764</th>\n",
              "      <td>United Distribution</td>\n",
              "      <td>1</td>\n",
              "    </tr>\n",
              "    <tr>\n",
              "      <th>14765</th>\n",
              "      <td>UNITEL LLC</td>\n",
              "      <td>1</td>\n",
              "    </tr>\n",
              "  </tbody>\n",
              "</table>\n",
              "<p>14766 rows × 2 columns</p>\n",
              "</div>"
            ],
            "text/plain": [
              "                     employer  cnt\n",
              "0                      Яндекс  181\n",
              "1                  Ростелеком  152\n",
              "2                  Спецремонт  116\n",
              "3      Поляков Денис Иванович   88\n",
              "4                   ООО ЕФИН    71\n",
              "...                       ...  ...\n",
              "14761                  UniSol    1\n",
              "14762            UNISTORY LLC    1\n",
              "14763                   UNIT6    1\n",
              "14764     United Distribution    1\n",
              "14765              UNITEL LLC    1\n",
              "\n",
              "[14766 rows x 2 columns]"
            ]
          },
          "metadata": {},
          "output_type": "display_data"
        }
      ],
      "source": [
        "# результат запроса\n",
        "employer_area = pd.read_sql_query(query_5_3, connection)\n",
        "display(employer_area)"
      ]
    },
    {
      "cell_type": "markdown",
      "id": "eab2206d-d95b-468b-8e5f-34381abf0ce7",
      "metadata": {
        "id": "eab2206d-d95b-468b-8e5f-34381abf0ce7"
      },
      "source": [
        "4. Напишите запрос для подсчёта количества работодателей, у которых не указана сфера деятельности."
      ]
    },
    {
      "cell_type": "code",
      "execution_count": 34,
      "id": "80defb23-bfb1-4a18-8be6-bf36aa7165d5",
      "metadata": {
        "id": "80defb23-bfb1-4a18-8be6-bf36aa7165d5"
      },
      "outputs": [],
      "source": [
        "# Соединим таблицы, чтобы вывести число работодателей, у которых не указана сфера деятельности\n",
        "query_5_4 = f'''\n",
        "SELECT\n",
        "COUNT(e.id) employers_count\n",
        "FROM employers e\n",
        "LEFT JOIN employers_industries i ON e.id = i.employer_id\n",
        "WHERE i.industry_id IS NULL\n",
        "'''"
      ]
    },
    {
      "cell_type": "code",
      "execution_count": 35,
      "id": "Dp_yCx6ysQSu",
      "metadata": {
        "colab": {
          "base_uri": "https://localhost:8080/"
        },
        "id": "Dp_yCx6ysQSu",
        "outputId": "49d91a1d-0592-40ac-a49c-e2e7a2b33055"
      },
      "outputs": [
        {
          "name": "stdout",
          "output_type": "stream",
          "text": [
            "\n",
            "    У 8419 работодателей в анкете не указана сфера деятельности.\n"
          ]
        }
      ],
      "source": [
        "# результат запроса\n",
        "no_industry_employers = pd.read_sql_query(query_5_4, connection)\n",
        "print('''\n",
        "    У {0} работодателей в анкете не указана сфера деятельности.'''\n",
        "      .format(no_industry_employers.iloc[0, 0]))\n"
      ]
    },
    {
      "cell_type": "markdown",
      "id": "0112af31-f6b0-4e3b-82ab-71296e752e5e",
      "metadata": {
        "id": "0112af31-f6b0-4e3b-82ab-71296e752e5e"
      },
      "source": [
        "5. Напишите запрос, чтобы узнать название компании, находящейся на третьем месте в алфавитном списке (по названию) компаний, у которых указано четыре сферы деятельности."
      ]
    },
    {
      "cell_type": "code",
      "execution_count": 36,
      "id": "973b0cfc-a972-470a-8b4a-68744ef220c4",
      "metadata": {
        "id": "973b0cfc-a972-470a-8b4a-68744ef220c4"
      },
      "outputs": [],
      "source": [
        "# Выберем компании с 4 сферами деятельности и выведем третью после сортировки\n",
        "query_5_5 = f'''\n",
        "SELECT e.name employer\n",
        "FROM employers e\n",
        "LEFT JOIN employers_industries i ON i.employer_id = e.id\n",
        "GROUP BY e.name\n",
        "HAVING COUNT(i.industry_id) = 4\n",
        "ORDER BY e.name\n",
        "LIMIT 1 OFFSET 2\n",
        "'''"
      ]
    },
    {
      "cell_type": "code",
      "execution_count": 37,
      "id": "xsPtpp8EsaED",
      "metadata": {
        "colab": {
          "base_uri": "https://localhost:8080/"
        },
        "id": "xsPtpp8EsaED",
        "outputId": "3ec12f36-3a71-4460-8963-9c12ac4ce185"
      },
      "outputs": [
        {
          "name": "stdout",
          "output_type": "stream",
          "text": [
            "\n",
            "    Компания \"2ГИС\" находится на третьем месте среди работодателей, у кого указано\n",
            "    четыре сферы деятельности.\n"
          ]
        }
      ],
      "source": [
        "# результат запроса\n",
        "four_industries_employer = pd.read_sql_query(query_5_5, connection)\n",
        "print('''\n",
        "    Компания \"{0}\" находится на третьем месте среди работодателей, у кого указано\n",
        "    четыре сферы деятельности.'''.format(four_industries_employer.iloc[0, 0]))"
      ]
    },
    {
      "cell_type": "markdown",
      "id": "3bfcfdaf-755d-4d2b-8ed8-326201dc07ab",
      "metadata": {
        "id": "3bfcfdaf-755d-4d2b-8ed8-326201dc07ab"
      },
      "source": [
        "6. С помощью запроса выясните, у какого количества работодателей в качестве сферы деятельности указана Разработка программного обеспечения.\n"
      ]
    },
    {
      "cell_type": "code",
      "execution_count": 38,
      "id": "ad3f270f-2991-47eb-929b-e8f88a55b0d1",
      "metadata": {
        "id": "ad3f270f-2991-47eb-929b-e8f88a55b0d1"
      },
      "outputs": [],
      "source": [
        "# Выберем компании, занимающиеся разработкой программного обеспечения и посчитаем\n",
        "query_5_6 = f'''\n",
        "SELECT COUNT(e.id) employers_number\n",
        "FROM employers_industries i\n",
        "JOIN employers e ON i.employer_id = e.id\n",
        "JOIN industries ii ON ii.id = i.industry_id\n",
        "WHERE ii.name = 'Разработка программного обеспечения'\n",
        "'''"
      ]
    },
    {
      "cell_type": "code",
      "execution_count": 39,
      "id": "H72qxWM0shPR",
      "metadata": {
        "colab": {
          "base_uri": "https://localhost:8080/"
        },
        "id": "H72qxWM0shPR",
        "outputId": "7f838df2-7716-41e6-fcad-8d67ec17d058"
      },
      "outputs": [
        {
          "name": "stdout",
          "output_type": "stream",
          "text": [
            "\n",
            "    3553 работодателей указали «Разработку программного обеспечения»\n",
            "    в качестве сферы деятельности.\n"
          ]
        }
      ],
      "source": [
        "# результат запроса\n",
        "specific_industry_employers = pd.read_sql_query(query_5_6, connection)\n",
        "print('''\n",
        "    {0} работодателей указали «Разработку программного обеспечения»\n",
        "    в качестве сферы деятельности.'''.format(specific_industry_employers.iloc[0, 0]))"
      ]
    },
    {
      "cell_type": "markdown",
      "id": "7b02bb86-0546-40fb-94a4-242f050a5c57",
      "metadata": {
        "id": "7b02bb86-0546-40fb-94a4-242f050a5c57"
      },
      "source": [
        "7. Для компании «Яндекс» выведите список регионов-миллионников, в которых представлены вакансии компании, вместе с количеством вакансий в этих регионах. Также добавьте строку Total с общим количеством вакансий компании. Результат отсортируйте по возрастанию количества.\n",
        "\n",
        "Список городов-милионников надо взять [отсюда](https://ru.wikipedia.org/wiki/%D0%93%D0%BE%D1%80%D0%BE%D0%B4%D0%B0-%D0%BC%D0%B8%D0%BB%D0%BB%D0%B8%D0%BE%D0%BD%D0%B5%D1%80%D1%8B_%D0%A0%D0%BE%D1%81%D1%81%D0%B8%D0%B8).\n",
        "\n",
        "Если возникнут трудности с этим задание посмотрите материалы модуля  PYTHON-17. Как получать данные из веб-источников и API."
      ]
    },
    {
      "cell_type": "code",
      "execution_count": 44,
      "id": "ZdfrL6gIs1Pn",
      "metadata": {
        "colab": {
          "base_uri": "https://localhost:8080/",
          "height": 0
        },
        "id": "ZdfrL6gIs1Pn",
        "outputId": "29386bca-2e5f-4941-f510-12b52c94c118"
      },
      "outputs": [
        {
          "data": {
            "text/plain": [
              "['Москва',\n",
              " 'Санкт-Петербург',\n",
              " 'Новосибирск',\n",
              " 'Екатеринбург',\n",
              " 'Казань',\n",
              " 'Красноярск',\n",
              " 'Нижний Новгород',\n",
              " 'Челябинск',\n",
              " 'Уфа',\n",
              " 'Самара',\n",
              " 'Ростов-на-Дону',\n",
              " 'Краснодар',\n",
              " 'Омск',\n",
              " 'Воронеж',\n",
              " 'Пермь',\n",
              " 'Волгоград']"
            ]
          },
          "metadata": {},
          "output_type": "display_data"
        }
      ],
      "source": [
        "# код для получения списка городов-милионников\n",
        "# Читаем ссылку и вперёд\n",
        "url = 'https://ru.wikipedia.org/wiki/%D0%93%D0%BE%D1%80%D0%BE%D0%B4%D0%B0-%D0%BC%D0%B8%D0%BB%D0%BB%D0%B8%D0%BE%D0%BD%D0%B5%D1%80%D1%8B_%D0%A0%D0%BE%D1%81%D1%81%D0%B8%D0%B8'\n",
        "table = pd.read_html(url)[0]\n",
        "cities_list = list(table['Город'])\n",
        "display(cities_list)"
      ]
    },
    {
      "cell_type": "code",
      "execution_count": 45,
      "id": "5a0e32a4-e68a-4365-8a39-2fe24c542c36",
      "metadata": {
        "id": "5a0e32a4-e68a-4365-8a39-2fe24c542c36"
      },
      "outputs": [],
      "source": [
        "# Найдем кол-во вакансий 'Яндекс' в городах-миллионниках, потом сгруппируем данные по городам,\n",
        "# и объединим получившееся с общим числом вакансий\n",
        "query_5_7 = f'''\n",
        "SELECT a.name, COUNT(v.id) cnt\n",
        "FROM vacancies v\n",
        "JOIN areas a ON a.id = v.area_id\n",
        "JOIN employers e ON e.id = v.employer_id\n",
        "WHERE e.name = 'Яндекс' AND a.name IN ('Москва', 'Санкт-Петербург', 'Новосибирск',\n",
        "'Екатеринбург', 'Казань', 'Нижний Новгород', 'Челябинск', 'Красноярск', 'Самара',\n",
        "'Уфа', 'Ростов-на-Дону', 'Омск', 'Краснодар', 'Воронеж', 'Пермь', 'Волгоград')\n",
        "GROUP BY a.name\n",
        "UNION ALL\n",
        "SELECT 'Total', COUNT(v.id)\n",
        "FROM vacancies v\n",
        "JOIN areas a ON a.id = v.area_id\n",
        "JOIN employers e ON e.id = v.employer_id\n",
        "WHERE e.name = 'Яндекс' AND a.name IN ('Москва', 'Санкт-Петербург', 'Новосибирск',\n",
        "'Екатеринбург', 'Казань', 'Нижний Новгород', 'Челябинск', 'Красноярск', 'Самара',\n",
        "'Уфа', 'Ростов-на-Дону', 'Омск', 'Краснодар', 'Воронеж', 'Пермь', 'Волгоград')\n",
        "ORDER BY cnt ASC\n",
        "'''"
      ]
    },
    {
      "cell_type": "code",
      "execution_count": 46,
      "id": "ttPhiO1rsvPq",
      "metadata": {
        "colab": {
          "base_uri": "https://localhost:8080/",
          "height": 0
        },
        "id": "ttPhiO1rsvPq",
        "outputId": "a4119f4d-6ff5-443f-8e7a-1c5ff1ec3fb4"
      },
      "outputs": [
        {
          "data": {
            "text/html": [
              "<div>\n",
              "<style scoped>\n",
              "    .dataframe tbody tr th:only-of-type {\n",
              "        vertical-align: middle;\n",
              "    }\n",
              "\n",
              "    .dataframe tbody tr th {\n",
              "        vertical-align: top;\n",
              "    }\n",
              "\n",
              "    .dataframe thead th {\n",
              "        text-align: right;\n",
              "    }\n",
              "</style>\n",
              "<table border=\"1\" class=\"dataframe\">\n",
              "  <thead>\n",
              "    <tr style=\"text-align: right;\">\n",
              "      <th></th>\n",
              "      <th>name</th>\n",
              "      <th>cnt</th>\n",
              "    </tr>\n",
              "  </thead>\n",
              "  <tbody>\n",
              "    <tr>\n",
              "      <th>0</th>\n",
              "      <td>Омск</td>\n",
              "      <td>21</td>\n",
              "    </tr>\n",
              "    <tr>\n",
              "      <th>1</th>\n",
              "      <td>Челябинск</td>\n",
              "      <td>22</td>\n",
              "    </tr>\n",
              "    <tr>\n",
              "      <th>2</th>\n",
              "      <td>Красноярск</td>\n",
              "      <td>23</td>\n",
              "    </tr>\n",
              "    <tr>\n",
              "      <th>3</th>\n",
              "      <td>Волгоград</td>\n",
              "      <td>24</td>\n",
              "    </tr>\n",
              "    <tr>\n",
              "      <th>4</th>\n",
              "      <td>Пермь</td>\n",
              "      <td>25</td>\n",
              "    </tr>\n",
              "    <tr>\n",
              "      <th>5</th>\n",
              "      <td>Казань</td>\n",
              "      <td>25</td>\n",
              "    </tr>\n",
              "    <tr>\n",
              "      <th>6</th>\n",
              "      <td>Ростов-на-Дону</td>\n",
              "      <td>25</td>\n",
              "    </tr>\n",
              "    <tr>\n",
              "      <th>7</th>\n",
              "      <td>Уфа</td>\n",
              "      <td>26</td>\n",
              "    </tr>\n",
              "    <tr>\n",
              "      <th>8</th>\n",
              "      <td>Самара</td>\n",
              "      <td>26</td>\n",
              "    </tr>\n",
              "    <tr>\n",
              "      <th>9</th>\n",
              "      <td>Краснодар</td>\n",
              "      <td>30</td>\n",
              "    </tr>\n",
              "    <tr>\n",
              "      <th>10</th>\n",
              "      <td>Воронеж</td>\n",
              "      <td>32</td>\n",
              "    </tr>\n",
              "    <tr>\n",
              "      <th>11</th>\n",
              "      <td>Новосибирск</td>\n",
              "      <td>35</td>\n",
              "    </tr>\n",
              "    <tr>\n",
              "      <th>12</th>\n",
              "      <td>Нижний Новгород</td>\n",
              "      <td>36</td>\n",
              "    </tr>\n",
              "    <tr>\n",
              "      <th>13</th>\n",
              "      <td>Екатеринбург</td>\n",
              "      <td>39</td>\n",
              "    </tr>\n",
              "    <tr>\n",
              "      <th>14</th>\n",
              "      <td>Санкт-Петербург</td>\n",
              "      <td>42</td>\n",
              "    </tr>\n",
              "    <tr>\n",
              "      <th>15</th>\n",
              "      <td>Москва</td>\n",
              "      <td>54</td>\n",
              "    </tr>\n",
              "    <tr>\n",
              "      <th>16</th>\n",
              "      <td>Total</td>\n",
              "      <td>485</td>\n",
              "    </tr>\n",
              "  </tbody>\n",
              "</table>\n",
              "</div>"
            ],
            "text/plain": [
              "               name  cnt\n",
              "0              Омск   21\n",
              "1         Челябинск   22\n",
              "2        Красноярск   23\n",
              "3         Волгоград   24\n",
              "4             Пермь   25\n",
              "5            Казань   25\n",
              "6    Ростов-на-Дону   25\n",
              "7               Уфа   26\n",
              "8            Самара   26\n",
              "9         Краснодар   30\n",
              "10          Воронеж   32\n",
              "11      Новосибирск   35\n",
              "12  Нижний Новгород   36\n",
              "13     Екатеринбург   39\n",
              "14  Санкт-Петербург   42\n",
              "15           Москва   54\n",
              "16            Total  485"
            ]
          },
          "metadata": {},
          "output_type": "display_data"
        }
      ],
      "source": [
        "# результат запроса\n",
        "yandex_areas = pd.read_sql_query(query_5_7, connection)\n",
        "display(yandex_areas)"
      ]
    },
    {
      "cell_type": "markdown",
      "id": "04966e40-3bc3-4dc8-9ba2-e80580ce3abc",
      "metadata": {
        "id": "04966e40-3bc3-4dc8-9ba2-e80580ce3abc"
      },
      "source": [
        "***"
      ]
    },
    {
      "cell_type": "code",
      "execution_count": 47,
      "id": "aGGyER-yt4SR",
      "metadata": {
        "colab": {
          "base_uri": "https://localhost:8080/"
        },
        "id": "aGGyER-yt4SR",
        "outputId": "c5d5bfe7-ba80-468c-9508-cabf03299e0f"
      },
      "outputs": [
        {
          "name": "stdout",
          "output_type": "stream",
          "text": [
            "\n",
            "    По нашим данным заметно, что абсолютный лидер по вакансиям в it-сфере - \"Яндекс\".\n",
            "    Компания предлагает больше всего вакансий в каждом из регионов.\n",
            "    Также в топе находятся другие широко известные компании: \"Ростелеком\", \"Тинькофф\", \"СБЕР\",\n",
            "    \"Газпром нефть\" и так далее. При этом, если говорить о средних предлагаемых зарплатах\n",
            "    (из указанных), мы видим, что \"Яндекс\" на одном из последних мест, а последнее\n",
            "    место - занимает \"Авито\". Это может говорить о том, что зачастую крупные\n",
            "    компании набирают больше всего людей на небольшие должности с небольшим окладом.\n",
            "    8419 работодателей не указали сферы деятельности. Возможная причина - работа требует\n",
            "    от соискателя высоких профессиональных навыков в различных областях.\n",
            "        \n"
          ]
        }
      ],
      "source": [
        "# выводы по анализу работодателей\n",
        "print('''\n",
        "    По нашим данным заметно, что абсолютный лидер по вакансиям в it-сфере - \"{0}\".\n",
        "    Компания предлагает больше всего вакансий в каждом из регионов.\n",
        "    Также в топе находятся другие широко известные компании: \"{1}\", \"{2}\", \"{3}\",\n",
        "    \"{4}\" и так далее. При этом, если говорить о средних предлагаемых зарплатах\n",
        "    (из указанных), мы видим, что \"{0}\" на одном из последних мест, а последнее\n",
        "    место - занимает \"Авито\". Это может говорить о том, что зачастую крупные\n",
        "    компании набирают больше всего людей на небольшие должности с небольшим окладом.\n",
        "    {5} работодателей не указали сферы деятельности. Возможная причина - работа требует\n",
        "    от соискателя высоких профессиональных навыков в различных областях.\n",
        "        '''\n",
        "      .format(employers_vacs.iloc[0,0], employers_vacs.iloc[1,0], employers_vacs.iloc[2,0],\n",
        "              employers_vacs.iloc[3,0], employers_vacs.iloc[4,0], no_industry_employers.iloc[0, 0]\n",
        "      ))"
      ]
    },
    {
      "cell_type": "markdown",
      "id": "b1ef156a-efcb-49ce-bb23-90763e7f35b2",
      "metadata": {
        "id": "b1ef156a-efcb-49ce-bb23-90763e7f35b2",
        "tags": []
      },
      "source": [
        "# Юнит 6. Предметный анализ"
      ]
    },
    {
      "cell_type": "markdown",
      "id": "b9cd50a0-992d-4988-8463-2b2b1c4629b4",
      "metadata": {
        "id": "b9cd50a0-992d-4988-8463-2b2b1c4629b4"
      },
      "source": [
        "1. Сколько вакансий имеет отношение к данным?\n",
        "\n",
        "Считаем, что вакансия имеет отношение к данным, если в её названии содержатся слова 'data' или 'данн'.\n",
        "\n",
        "*Подсказка: Обратите внимание, что названия вакансий могут быть написаны в любом регистре.*\n"
      ]
    },
    {
      "cell_type": "code",
      "execution_count": 48,
      "id": "54ab0e50-c0f1-47cc-a54b-bc5c8bc363f9",
      "metadata": {
        "id": "54ab0e50-c0f1-47cc-a54b-bc5c8bc363f9"
      },
      "outputs": [],
      "source": [
        "# Искать вакансии будем по ключу, для удобства переведем в нижний регистр\n",
        "query_6_1 = f'''\n",
        "SELECT COUNT(v.id) cnt\n",
        "FROM vacancies v\n",
        "WHERE lower(v.name) LIKE '%data%' OR lower(v.name) LIKE'%данн%'\n",
        "'''"
      ]
    },
    {
      "cell_type": "code",
      "execution_count": 50,
      "id": "9F1meAqsuUjd",
      "metadata": {
        "colab": {
          "base_uri": "https://localhost:8080/"
        },
        "id": "9F1meAqsuUjd",
        "outputId": "51573e05-ed63-497c-b6d1-abe587c9147a"
      },
      "outputs": [
        {
          "name": "stdout",
          "output_type": "stream",
          "text": [
            "\n",
            "    Под указанные критерии подходит 1771 вакансия.\n"
          ]
        }
      ],
      "source": [
        "# результат запроса\n",
        "data_vacancies  = pd.read_sql_query(query_6_1,connection)\n",
        "print('''\n",
        "    Под указанные критерии подходит {0} вакансия.'''.format(data_vacancies.iloc[0]['cnt']))"
      ]
    },
    {
      "cell_type": "markdown",
      "id": "4dea20cb-a36b-474a-a0b9-e08e8e3857a5",
      "metadata": {
        "id": "4dea20cb-a36b-474a-a0b9-e08e8e3857a5"
      },
      "source": [
        "2. Сколько есть подходящих вакансий для начинающего дата-сайентиста?\n",
        "Будем считать вакансиями для дата-сайентистов такие, в названии которых есть хотя бы одно из следующих сочетаний:\n",
        "* 'data scientist'\n",
        "* 'data science'\n",
        "* 'исследователь данных'\n",
        "* 'ML' (здесь не нужно брать вакансии по HTML)\n",
        "* 'machine learning'\n",
        "* 'машинн%обучен%'\n",
        "\n",
        "** В следующих заданиях мы продолжим работать с вакансиями по этому условию.*\n",
        "\n",
        "Считаем вакансиями для специалистов уровня Junior следующие:\n",
        "* в названии есть слово 'junior' *или*\n",
        "* требуемый опыт — Нет опыта *или*\n",
        "* тип трудоустройства — Стажировка.\n"
      ]
    },
    {
      "cell_type": "code",
      "execution_count": 51,
      "id": "9c61b3c0-bb66-46c9-ae1e-81d3f5752b4a",
      "metadata": {
        "id": "9c61b3c0-bb66-46c9-ae1e-81d3f5752b4a"
      },
      "outputs": [],
      "source": [
        "# Будем искать по ключам, дополнительно добавим ключ 'junior' и значения в 'опыт'\n",
        "query_6_2 = f'''\n",
        "SELECT COUNT(v.name) cnt\n",
        "FROM vacancies v\n",
        "WHERE (lower(v.name) LIKE '%data scientist%'\n",
        "OR lower(v.name) LIKE '%data science%'\n",
        "OR lower(v.name) LIKE '%исследователь данных%'\n",
        "OR (v.name LIKE '%ML%' AND v.name NOT LIKE '%HTML%')\n",
        "OR lower(v.name) LIKE '%machine learning%'\n",
        "OR lower(v.name) LIKE '%машинн%обучен%')\n",
        "AND ((lower(v.name) LIKE '%junior%') OR (v.experience='Нет опыта') OR (v.employment='Стажировка'))\n",
        "'''"
      ]
    },
    {
      "cell_type": "code",
      "execution_count": 52,
      "id": "ZNM-LLYuu1dj",
      "metadata": {
        "colab": {
          "base_uri": "https://localhost:8080/"
        },
        "id": "ZNM-LLYuu1dj",
        "outputId": "4f4b87ad-326c-4f89-8f88-f5e5c468dce0"
      },
      "outputs": [
        {
          "name": "stdout",
          "output_type": "stream",
          "text": [
            "\n",
            "    Выбрано 51 подходящих вакансий для начинающего дата-сайентиста.\n"
          ]
        }
      ],
      "source": [
        "# результат запроса\n",
        "beginner_vacancies = pd.read_sql_query(query_6_2, connection)\n",
        "print('''\n",
        "    Выбрано {0} подходящих вакансий для начинающего дата-сайентиста.'''.format(beginner_vacancies.iloc[0]['cnt']))"
      ]
    },
    {
      "cell_type": "markdown",
      "id": "eedceb80-c5ca-480e-b27a-278dfb8b4438",
      "metadata": {
        "id": "eedceb80-c5ca-480e-b27a-278dfb8b4438"
      },
      "source": [
        "3. Сколько есть вакансий для DS, в которых в качестве ключевого навыка указан SQL или postgres?\n",
        "\n",
        "** Критерии для отнесения вакансии к DS указаны в предыдущем задании.*"
      ]
    },
    {
      "cell_type": "code",
      "execution_count": 53,
      "id": "69621713-0cc5-4f1b-a1d7-bb144fa6148c",
      "metadata": {
        "id": "69621713-0cc5-4f1b-a1d7-bb144fa6148c"
      },
      "outputs": [],
      "source": [
        "# Ищем по тому же принципу, что и в предыдущем задании, но использовать будем key_skills\n",
        "query_6_3 = f'''\n",
        "SELECT COUNT(id)\n",
        "FROM vacancies\n",
        "WHERE\n",
        "    ( name ILIKE '%data scientist%' OR\n",
        "      name ILIKE '%data science%' OR\n",
        "      name ILIKE '%исследователь данных%' OR\n",
        "      name ILIKE '%machine learning%' OR\n",
        "      name ILIKE '%машинн%обучен%' OR\n",
        "      name ILIKE '%ML%' AND name NOT ILIKE '%HTML%' )\n",
        "    AND\n",
        "    ( key_skills ILIKE '%SQL%' OR key_skills ILIKE '%postgres%' )\n",
        "'''"
      ]
    },
    {
      "cell_type": "code",
      "execution_count": 54,
      "id": "alA8WEAAvGdf",
      "metadata": {
        "colab": {
          "base_uri": "https://localhost:8080/"
        },
        "id": "alA8WEAAvGdf",
        "outputId": "4998539c-5bf1-4c6d-c3c7-85202f10ac30"
      },
      "outputs": [
        {
          "name": "stdout",
          "output_type": "stream",
          "text": [
            "\n",
            "        В 229 вакансиях для DS в качестве ключа указан навык SQL или postgres.\n"
          ]
        }
      ],
      "source": [
        "# результат запроса\n",
        "sql_vacancies = pd.read_sql_query(query_6_3, connection)\n",
        "print('''\n",
        "        В {0} вакансиях для DS в качестве ключа указан навык SQL или postgres.'''.format(sql_vacancies.iloc[0][0]))"
      ]
    },
    {
      "cell_type": "markdown",
      "id": "1be1e9c6-37cf-4a5f-bfeb-04cab799dc80",
      "metadata": {
        "id": "1be1e9c6-37cf-4a5f-bfeb-04cab799dc80"
      },
      "source": [
        "4. Проверьте, насколько популярен Python в требованиях работодателей к DS.Для этого вычислите количество вакансий, в которых в качестве ключевого навыка указан Python.\n",
        "\n",
        "** Это можно сделать помощью запроса, аналогичного предыдущему.*"
      ]
    },
    {
      "cell_type": "code",
      "execution_count": 55,
      "id": "0036a355-9ccf-4564-8b01-73d8194297e7",
      "metadata": {
        "id": "0036a355-9ccf-4564-8b01-73d8194297e7"
      },
      "outputs": [],
      "source": [
        "# То же самое, но используем другие навыки\n",
        "query_6_4 = f'''\n",
        "SELECT COUNT(*)\n",
        "FROM vacancies v\n",
        "WHERE\n",
        "    (\n",
        "    name ILIKE '%data scientist%'  OR\n",
        "    name ILIKE  '%data science%' OR\n",
        "    name ILIKE  '%исследователь данных%'  OR\n",
        "    (name ILIKE  '%ML%' AND name NOT ILIKE '%HTML%')  OR\n",
        "    name ILIKE '%machine learning%' OR\n",
        "    name ILIKE '%машинн%обучен%'\n",
        "    )\n",
        "    AND\n",
        "    key_skills ILIKE '%Python%'\n",
        "'''"
      ]
    },
    {
      "cell_type": "code",
      "execution_count": 56,
      "id": "1i-5WyucvQ6v",
      "metadata": {
        "colab": {
          "base_uri": "https://localhost:8080/"
        },
        "id": "1i-5WyucvQ6v",
        "outputId": "242ea81c-faa4-4f1b-a02c-f2e250475d36"
      },
      "outputs": [
        {
          "name": "stdout",
          "output_type": "stream",
          "text": [
            "\n",
            "    В 357 вакансиях для DS в качестве ключевого навыка указан Python.\n"
          ]
        }
      ],
      "source": [
        "python_vacancies = pd.read_sql_query(query_6_4, connection)\n",
        "print('''\n",
        "    В {0} вакансиях для DS в качестве ключевого навыка указан Python.'''.format(python_vacancies.iloc[0][0]))"
      ]
    },
    {
      "cell_type": "markdown",
      "id": "ec3c8db7-fa21-4a41-a994-1af63742a642",
      "metadata": {
        "id": "ec3c8db7-fa21-4a41-a994-1af63742a642"
      },
      "source": [
        "5. Сколько ключевых навыков в среднем указывают в вакансиях для DS?\n",
        "Ответ округлите до двух знаков после точки-разделителя."
      ]
    },
    {
      "cell_type": "code",
      "execution_count": 57,
      "id": "949132bc-d5b6-4611-8218-0b9a504d74f4",
      "metadata": {
        "id": "949132bc-d5b6-4611-8218-0b9a504d74f4"
      },
      "outputs": [],
      "source": [
        "# Посчитаем среднее. Так как навыки разделены табуляцией - удалим их (заменим пустой строкой)\n",
        "# После вычтем из полной строки сокращённую и прибавим 1\n",
        "query_6_5 = f'''\n",
        "SELECT ROUND(AVG(1+(LENGTH(v.key_skills) - LENGTH(COALESCE(REPLACE(v.key_skills, CHR(9), ''))))), 2)\n",
        "FROM vacancies v\n",
        "WHERE (lower(v.name) LIKE '%data scientist%'\n",
        "    OR lower(v.name) LIKE '%data science%'\n",
        "    OR lower(v.name) LIKE '%исследователь данных%'\n",
        "    OR (v.name LIKE '%ML%' AND v.name NOT LIKE '%HTML%')\n",
        "    OR lower(v.name) LIKE '%machine learning%'\n",
        "    OR lower(v.name) LIKE '%машинн%обучен%')\n",
        "    AND v.key_skills IS NOT NULL\n",
        "'''"
      ]
    },
    {
      "cell_type": "code",
      "execution_count": 58,
      "id": "a3V24Tvmviqk",
      "metadata": {
        "colab": {
          "base_uri": "https://localhost:8080/"
        },
        "id": "a3V24Tvmviqk",
        "outputId": "5952032a-dea6-45ea-d19a-64eaf551d7f3"
      },
      "outputs": [
        {
          "name": "stdout",
          "output_type": "stream",
          "text": [
            "\n",
            "    Для вакансий DS в среднем указывают 6.41 ключевых навыков.\n"
          ]
        }
      ],
      "source": [
        "key_skills_count = pd.read_sql_query(query_6_5, connection)\n",
        "print('''\n",
        "    Для вакансий DS в среднем указывают {0} ключевых навыков.'''.format(key_skills_count.iloc[0][0]))"
      ]
    },
    {
      "cell_type": "markdown",
      "id": "1041c17a-ca8f-4543-a0ca-32778914fb00",
      "metadata": {
        "id": "1041c17a-ca8f-4543-a0ca-32778914fb00"
      },
      "source": [
        "6. Напишите запрос, позволяющий вычислить, какую зарплату для DS в **среднем** указывают для каждого типа требуемого опыта (уникальное значение из поля *experience*).\n",
        "\n",
        "При решении задачи примите во внимание следующее:\n",
        "1. Рассматриваем только вакансии, у которых заполнено хотя бы одно из двух полей с зарплатой.\n",
        "2. Если заполнены оба поля с зарплатой, то считаем зарплату по каждой вакансии как сумму двух полей, делённую на 2. Если заполнено только одно из полей, то его и считаем зарплатой по вакансии.\n",
        "3. Если в расчётах участвует null, в результате он тоже даст null (посмотрите, что возвращает запрос select 1 + null). Чтобы избежать этой ситуацию, мы воспользуемся функцией [coalesce](https://postgrespro.ru/docs/postgresql/9.5/functions-conditional#functions-coalesce-nvl-ifnull), которая заменит null на значение, которое мы передадим. Например, посмотрите, что возвращает запрос `select 1 + coalesce(null, 0)`\n",
        "\n",
        "Выясните, на какую зарплату в среднем может рассчитывать дата-сайентист с опытом работы от 3 до 6 лет. Результат округлите до целого числа."
      ]
    },
    {
      "cell_type": "code",
      "execution_count": 59,
      "id": "6a743d39-5204-48d3-8271-b9f88e68d40e",
      "metadata": {
        "id": "6a743d39-5204-48d3-8271-b9f88e68d40e"
      },
      "outputs": [],
      "source": [
        "# Для расчета смотрим только те вакансии, в которых указана какая-нибудь зарплата, сгруппируем по опыту\n",
        "query_6_6 = f'''\n",
        "SELECT DISTINCT v.experience, ROUND(AVG(COALESCE(((salary_from + salary_to)/2), salary_from, salary_to)))\n",
        "FROM vacancies v\n",
        "WHERE (lower(v.name) LIKE '%data scientist%'\n",
        "    OR lower(v.name) LIKE '%data science%'\n",
        "    OR lower(v.name) LIKE '%исследователь данных%'\n",
        "    OR (v.name LIKE '%ML%' AND v.name NOT LIKE '%HTML%')\n",
        "    OR lower(v.name) LIKE '%machine learning%'\n",
        "    OR lower(v.name) LIKE '%машинн%обучен%')\n",
        "    AND (salary_from IS NOT NULL OR salary_to IS NOT NULL)\n",
        "    GROUP BY v.experience\n",
        "'''"
      ]
    },
    {
      "cell_type": "code",
      "execution_count": 60,
      "id": "aRIJ0mZEwU1_",
      "metadata": {
        "colab": {
          "base_uri": "https://localhost:8080/",
          "height": 143
        },
        "id": "aRIJ0mZEwU1_",
        "outputId": "490000fb-15d4-4c10-da3a-bc8d7f1a5210"
      },
      "outputs": [
        {
          "data": {
            "text/html": [
              "<div>\n",
              "<style scoped>\n",
              "    .dataframe tbody tr th:only-of-type {\n",
              "        vertical-align: middle;\n",
              "    }\n",
              "\n",
              "    .dataframe tbody tr th {\n",
              "        vertical-align: top;\n",
              "    }\n",
              "\n",
              "    .dataframe thead th {\n",
              "        text-align: right;\n",
              "    }\n",
              "</style>\n",
              "<table border=\"1\" class=\"dataframe\">\n",
              "  <thead>\n",
              "    <tr style=\"text-align: right;\">\n",
              "      <th></th>\n",
              "      <th>experience</th>\n",
              "      <th>round</th>\n",
              "    </tr>\n",
              "  </thead>\n",
              "  <tbody>\n",
              "    <tr>\n",
              "      <th>0</th>\n",
              "      <td>Нет опыта</td>\n",
              "      <td>74643.0</td>\n",
              "    </tr>\n",
              "    <tr>\n",
              "      <th>1</th>\n",
              "      <td>От 1 года до 3 лет</td>\n",
              "      <td>139675.0</td>\n",
              "    </tr>\n",
              "    <tr>\n",
              "      <th>2</th>\n",
              "      <td>От 3 до 6 лет</td>\n",
              "      <td>243115.0</td>\n",
              "    </tr>\n",
              "  </tbody>\n",
              "</table>\n",
              "</div>"
            ],
            "text/plain": [
              "           experience     round\n",
              "0           Нет опыта   74643.0\n",
              "1  От 1 года до 3 лет  139675.0\n",
              "2       От 3 до 6 лет  243115.0"
            ]
          },
          "metadata": {},
          "output_type": "display_data"
        }
      ],
      "source": [
        "avg_ds_salary = pd.read_sql_query(query_6_6, connection)\n",
        "display(avg_ds_salary)"
      ]
    },
    {
      "cell_type": "markdown",
      "id": "6a7892b4-4113-4746-adce-18aa2844f18e",
      "metadata": {
        "id": "6a7892b4-4113-4746-adce-18aa2844f18e"
      },
      "source": [
        "***"
      ]
    },
    {
      "cell_type": "code",
      "execution_count": 61,
      "id": "UjLWUptVwY1o",
      "metadata": {
        "colab": {
          "base_uri": "https://localhost:8080/"
        },
        "id": "UjLWUptVwY1o",
        "outputId": "7a43c8ed-5ab6-43c3-a95b-539b55a06ba6"
      },
      "outputs": [
        {
          "name": "stdout",
          "output_type": "stream",
          "text": [
            "\n",
            "По итогам исследования можно сказать, что вакансий для начинающих среди всех вакансий DS достаточно мало (51 вакансия из 1771).\n",
            "Можно предположить, что новичкам приходится значительно труднее, нежели работникам с опытом.\n",
            "По зарплатам видно, что сотрудникам без опыта предлагают вдвое меньшую среднюю зарплату, чем тем, кто имеет опыт от 1 до 3 лет.\n",
            "Среди ключевых навыков (которых в среднем 6.41) достаточно популярен Python - его требуют в 357 вакансиях. SQL/Postgres также популярен,\n",
            "данный навык указан в 229 вакансиях. Из вышесказанного можно сделать вывод, что среди сотрудников без опыта в этой области предполагается\n",
            "высокая конкуренция из-за небольшого количества подходящих вакансий. Среднее количество ключевых навыков (в топе - Python и SQL) также показывает,\n",
            "что от специалистов DS любого уровня ожидаются довольно обширные знания и навыки.\n",
            "\n"
          ]
        }
      ],
      "source": [
        "# выводы по предметному анализу\n",
        "print('''\n",
        "По итогам исследования можно сказать, что вакансий для начинающих среди всех вакансий DS достаточно мало ({1} вакансия из {0}).\n",
        "Можно предположить, что новичкам приходится значительно труднее, нежели работникам с опытом.\n",
        "По зарплатам видно, что сотрудникам без опыта предлагают вдвое меньшую среднюю зарплату, чем тем, кто имеет опыт от 1 до 3 лет.\n",
        "Среди ключевых навыков (которых в среднем {4}) достаточно популярен Python - его требуют в {3} вакансиях. SQL/Postgres также популярен,\n",
        "данный навык указан в {2} вакансиях. Из вышесказанного можно сделать вывод, что среди сотрудников без опыта в этой области предполагается\n",
        "высокая конкуренция из-за небольшого количества подходящих вакансий. Среднее количество ключевых навыков (в топе - Python и SQL) также показывает,\n",
        "что от специалистов DS любого уровня ожидаются довольно обширные знания и навыки.\n",
        "'''.format(data_vacancies.iloc[0][0], beginner_vacancies.iloc[0][0], sql_vacancies.iloc[0][0],\n",
        "               python_vacancies.iloc[0][0], key_skills_count.iloc[0][0], avg_ds_salary)\n",
        ")"
      ]
    },
    {
      "cell_type": "markdown",
      "id": "c0ED6fh7wiBT",
      "metadata": {
        "id": "c0ED6fh7wiBT"
      },
      "source": [
        "# Общий вывод по проекту"
      ]
    },
    {
      "cell_type": "code",
      "execution_count": 62,
      "id": "h9B3BL-wwj18",
      "metadata": {
        "id": "h9B3BL-wwj18"
      },
      "outputs": [],
      "source": [
        "# Дополнительно можно найти количество вакансий DS с режимом работы 'на удаленке' (в данном случае можно не привязываться к региону)\n",
        "query_7_1 = f'''\n",
        "SELECT COUNT(v.id) cnt\n",
        "FROM vacancies v\n",
        "WHERE schedule = 'Удаленная работа'\n",
        "AND (lower(v.name) LIKE '%data scientist%'\n",
        "    OR lower(v.name) LIKE '%data science%'\n",
        "    OR lower(v.name) LIKE '%исследователь данных%'\n",
        "    OR (v.name LIKE '%ML%' AND v.name NOT LIKE '%HTML%')\n",
        "    OR lower(v.name) LIKE '%machine learning%'\n",
        "    OR lower(v.name) LIKE '%машинн%обучен%')\n",
        "    '''"
      ]
    },
    {
      "cell_type": "code",
      "execution_count": 63,
      "id": "l1kxYqaYR8GP",
      "metadata": {
        "colab": {
          "base_uri": "https://localhost:8080/"
        },
        "id": "l1kxYqaYR8GP",
        "outputId": "84b298f9-19f7-44af-d7cc-241b4ec2bd71"
      },
      "outputs": [
        {
          "name": "stdout",
          "output_type": "stream",
          "text": [
            "\n",
            "    Удалённая работа указана в 115 вакансиях DS.\n"
          ]
        }
      ],
      "source": [
        "distant_ds_job = pd.read_sql_query(query_7_1, connection)\n",
        "print('''\n",
        "    Удалённая работа указана в {0} вакансиях DS.'''.format(distant_ds_job.iloc[0][0]))"
      ]
    },
    {
      "cell_type": "code",
      "execution_count": 64,
      "id": "v5fuYp9gSS3I",
      "metadata": {
        "id": "v5fuYp9gSS3I"
      },
      "outputs": [],
      "source": [
        "# Если с удалённой работой не получилось - посмотрим топ-20 регионов, где предлагают вакансии DS\n",
        "query_7_2 = f'''\n",
        "SELECT a.name, COUNT(v.id) cnt\n",
        "FROM areas a\n",
        "JOIN vacancies v ON v.area_id = a.id\n",
        "WHERE (lower(v.name) LIKE '%data scientist%'\n",
        "    OR lower(v.name) LIKE '%data science%'\n",
        "    OR lower(v.name) LIKE '%исследователь данных%'\n",
        "    OR (v.name LIKE '%ML%' AND v.name NOT LIKE '%HTML%')\n",
        "    OR lower(v.name) LIKE '%machine learning%'\n",
        "    OR lower(v.name) LIKE '%машинн%обучен%')\n",
        "GROUP BY a.name\n",
        "ORDER BY cnt DESC\n",
        "LIMIT 20\n",
        "'''"
      ]
    },
    {
      "cell_type": "code",
      "execution_count": 66,
      "id": "XK1C8epHS0d6",
      "metadata": {
        "colab": {
          "base_uri": "https://localhost:8080/",
          "height": 676
        },
        "id": "XK1C8epHS0d6",
        "outputId": "5b27dd01-1c17-42c5-d0a2-15997d217482"
      },
      "outputs": [
        {
          "data": {
            "text/html": [
              "<div>\n",
              "<style scoped>\n",
              "    .dataframe tbody tr th:only-of-type {\n",
              "        vertical-align: middle;\n",
              "    }\n",
              "\n",
              "    .dataframe tbody tr th {\n",
              "        vertical-align: top;\n",
              "    }\n",
              "\n",
              "    .dataframe thead th {\n",
              "        text-align: right;\n",
              "    }\n",
              "</style>\n",
              "<table border=\"1\" class=\"dataframe\">\n",
              "  <thead>\n",
              "    <tr style=\"text-align: right;\">\n",
              "      <th></th>\n",
              "      <th>name</th>\n",
              "      <th>cnt</th>\n",
              "    </tr>\n",
              "  </thead>\n",
              "  <tbody>\n",
              "    <tr>\n",
              "      <th>0</th>\n",
              "      <td>Москва</td>\n",
              "      <td>217</td>\n",
              "    </tr>\n",
              "    <tr>\n",
              "      <th>1</th>\n",
              "      <td>Санкт-Петербург</td>\n",
              "      <td>64</td>\n",
              "    </tr>\n",
              "    <tr>\n",
              "      <th>2</th>\n",
              "      <td>Новосибирск</td>\n",
              "      <td>23</td>\n",
              "    </tr>\n",
              "    <tr>\n",
              "      <th>3</th>\n",
              "      <td>Нижний Новгород</td>\n",
              "      <td>20</td>\n",
              "    </tr>\n",
              "    <tr>\n",
              "      <th>4</th>\n",
              "      <td>Алматы</td>\n",
              "      <td>16</td>\n",
              "    </tr>\n",
              "    <tr>\n",
              "      <th>5</th>\n",
              "      <td>Казань</td>\n",
              "      <td>16</td>\n",
              "    </tr>\n",
              "    <tr>\n",
              "      <th>6</th>\n",
              "      <td>Минск</td>\n",
              "      <td>9</td>\n",
              "    </tr>\n",
              "    <tr>\n",
              "      <th>7</th>\n",
              "      <td>Томск</td>\n",
              "      <td>8</td>\n",
              "    </tr>\n",
              "    <tr>\n",
              "      <th>8</th>\n",
              "      <td>Екатеринбург</td>\n",
              "      <td>7</td>\n",
              "    </tr>\n",
              "    <tr>\n",
              "      <th>9</th>\n",
              "      <td>Нур-Султан</td>\n",
              "      <td>6</td>\n",
              "    </tr>\n",
              "    <tr>\n",
              "      <th>10</th>\n",
              "      <td>Армения</td>\n",
              "      <td>6</td>\n",
              "    </tr>\n",
              "    <tr>\n",
              "      <th>11</th>\n",
              "      <td>Ростов-на-Дону</td>\n",
              "      <td>6</td>\n",
              "    </tr>\n",
              "    <tr>\n",
              "      <th>12</th>\n",
              "      <td>Краснодар</td>\n",
              "      <td>6</td>\n",
              "    </tr>\n",
              "    <tr>\n",
              "      <th>13</th>\n",
              "      <td>Кипр</td>\n",
              "      <td>5</td>\n",
              "    </tr>\n",
              "    <tr>\n",
              "      <th>14</th>\n",
              "      <td>Пермь</td>\n",
              "      <td>5</td>\n",
              "    </tr>\n",
              "    <tr>\n",
              "      <th>15</th>\n",
              "      <td>Самара</td>\n",
              "      <td>5</td>\n",
              "    </tr>\n",
              "    <tr>\n",
              "      <th>16</th>\n",
              "      <td>Рязань</td>\n",
              "      <td>4</td>\n",
              "    </tr>\n",
              "    <tr>\n",
              "      <th>17</th>\n",
              "      <td>Ташкент</td>\n",
              "      <td>4</td>\n",
              "    </tr>\n",
              "    <tr>\n",
              "      <th>18</th>\n",
              "      <td>Омск</td>\n",
              "      <td>3</td>\n",
              "    </tr>\n",
              "    <tr>\n",
              "      <th>19</th>\n",
              "      <td>Владивосток</td>\n",
              "      <td>3</td>\n",
              "    </tr>\n",
              "  </tbody>\n",
              "</table>\n",
              "</div>"
            ],
            "text/plain": [
              "               name  cnt\n",
              "0            Москва  217\n",
              "1   Санкт-Петербург   64\n",
              "2       Новосибирск   23\n",
              "3   Нижний Новгород   20\n",
              "4            Алматы   16\n",
              "5            Казань   16\n",
              "6             Минск    9\n",
              "7             Томск    8\n",
              "8      Екатеринбург    7\n",
              "9        Нур-Султан    6\n",
              "10          Армения    6\n",
              "11   Ростов-на-Дону    6\n",
              "12        Краснодар    6\n",
              "13             Кипр    5\n",
              "14            Пермь    5\n",
              "15           Самара    5\n",
              "16           Рязань    4\n",
              "17          Ташкент    4\n",
              "18             Омск    3\n",
              "19      Владивосток    3"
            ]
          },
          "metadata": {},
          "output_type": "display_data"
        }
      ],
      "source": [
        "# Выведем регионы с вакансиями DS\n",
        "ds_area_vacancies = pd.read_sql_query(query_7_2, connection)\n",
        "display(ds_area_vacancies)"
      ]
    },
    {
      "cell_type": "markdown",
      "id": "hjrGuEqZTEBm",
      "metadata": {
        "id": "hjrGuEqZTEBm"
      },
      "source": [
        "Исходя из результатов дополнительных исследований - для DS не последнюю роль играет регион проживания, так как только в 115 из 1771 вакансий указана удалённая работа (однако возможно, что в некоторых случаях удаленная работа возможна после интервью или прохождения испытательного срока).\n",
        "\n",
        "Лидером по количеству вакансий DS является Москва, далее идут Санкт-Петербург, Новосибирск, Нижний Новогород и другие города России. За рубежом вакансии есть в Казахстане, Беларуси, Армении, Узбекистане и Кипре. У проживающих в указанных регионах (или готовых туда переехать) соискателей более высокие шансы найти подходящую вакансию DS. Но нельзя исключать и удаленную работу, хотя, конкуренция на эти позиции будет выше, с большой долей вероятности."
      ]
    },
    {
      "cell_type": "markdown",
      "id": "WF_nuh07URYh",
      "metadata": {
        "id": "WF_nuh07URYh"
      },
      "source": [
        "\n",
        "## **Заключение**\n",
        "Подытожив все исследования можно сделать общие выводы:\n",
        "\n",
        "      1. Общий анализ вакансий\n",
        "      - Больше всего вакансий размещены в крупных городах;\n",
        "      - Примерно в половине вакансий указан размер оплаты труда;\n",
        "      - Самые распространенный график работы - \"Полный день и полная занятость\". Второе место занимает \"Удалённая работа и полная занятость\";\n",
        "      - Больше всего вакансий предлагается специалистам с опытом от 1 года до 3 лет.\n",
        "      \n",
        "      2. Анализ работодателей\n",
        "      - Больше всего вакансий размещают крупные компании из России, преимущественно в крупных городах;\n",
        "      - Больше трети компаний не имеет определённой сферы деятельности;\n",
        "      - Примерно 15% компаний занимаются \"Разработкой программного обспечения\";\n",
        "      \n",
        "      3. Предметный анализ\n",
        "      - Среди 1771 вакансий, относящихся к DS, для начинающих специалистов доступна только 51 вакансия;\n",
        "      - Из наиболее популярных ключевых навыков можно выделить Python и SQL;\n",
        "      - В среднем специалисту DS нужно обладать 6 ключевыми навыками;\n",
        "      - Средняя зарплата специалиста DS - около 180тыс. и напрямую зависит от опыта.\n",
        "\n",
        "Учитывая вышеизложенное можно вывести следующее:\n",
        "- Не смотря на то, что специальность DS не является самой популярной (исходя из предоставленных данных), вакансий достаточно как для новичков, так и для соискателей с опытом. Наличие хотя бы одного года работы уже значительно увеличивает число вакансий DS.\n",
        "- Распределение вакансий по регионам довольно прозрачное: лучше всего искать работу в Москве или других крупных городах (также стоит рассмотреть популярные места релокации - например страны СНГ). Вакансии с возможностью удаленной работы составляют всего 6,5% от общего числа. На текущий момент времени сложно предположить, будет ли расти процент вакансий с удаленной работой.\n"
      ]
    }
  ],
  "metadata": {
    "colab": {
      "collapsed_sections": [
        "829cb75b-f14e-4ba8-9195-7ba929a7d656",
        "0dc6476b-7a00-44f1-ac93-6e3baed33a29",
        "8d62a9f3-f64e-4fe7-bdac-c4dffa16155e",
        "7ea20ab6-04a7-40a0-adec-443a0e5a42c3"
      ],
      "provenance": []
    },
    "kernelspec": {
      "display_name": "Python 3",
      "language": "python",
      "name": "python3"
    },
    "language_info": {
      "codemirror_mode": {
        "name": "ipython",
        "version": 3
      },
      "file_extension": ".py",
      "mimetype": "text/x-python",
      "name": "python",
      "nbconvert_exporter": "python",
      "pygments_lexer": "ipython3",
      "version": "3.12.6"
    }
  },
  "nbformat": 4,
  "nbformat_minor": 5
}
